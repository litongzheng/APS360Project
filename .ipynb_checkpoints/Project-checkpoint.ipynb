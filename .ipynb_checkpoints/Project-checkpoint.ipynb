{
 "cells": [
  {
   "cell_type": "code",
   "execution_count": 2,
   "metadata": {},
   "outputs": [],
   "source": [
    "import pandas as pd\n",
    "import numpy as np\n",
    "import csv\n",
    "import torch\n",
    "import torch.nn as nn\n",
    "import torch.nn.functional as F\n",
    "import torch.optim as optim\n",
    "import torchtext\n",
    "import numpy as np\n",
    "import matplotlib.pyplot as plt"
   ]
  },
  {
   "cell_type": "code",
   "execution_count": 6,
   "metadata": {},
   "outputs": [],
   "source": [
    "sp = pd.read_csv(\"All-seasons.csv\")\n",
    "sp.replace('\\n',' ',regex = True,inplace=True)\n",
    "sp.to_csv('sp.csv',index= False)\n",
    "sp.head()\n",
    "cartman = sp[sp.Character==\"Cartman\"]\n",
    "stan = sp[sp.Character == \"Stan\"]"
   ]
  },
  {
   "cell_type": "code",
   "execution_count": 7,
   "metadata": {},
   "outputs": [],
   "source": [
    "#batching the data\n",
    "\n",
    "import torchtext\n",
    "\n",
    "text_field = torchtext.data.Field(sequential=True,      # text sequence\n",
    "                                  tokenize=lambda x: x, # because are building a character-RNN\n",
    "                                  include_lengths=True, # to track the length of sequences, for batching\n",
    "                                  batch_first=True,\n",
    "                                  use_vocab=True)       # to turn each character into an integer index\n",
    "i = 0\n",
    "for line in open('sp3.txt'):\n",
    "        #print(line)\n",
    "        i = i+1\n",
    "        if i>=10:\n",
    "            break\n",
    "fields = [('line', text_field)]\n",
    "dataset = torchtext.data.TabularDataset(\"sp3.txt\", # name of the file\n",
    "                                        \"csv\",  # fields are separated by a tab\n",
    "                                        fields)\n",
    "split = [0.6, 0.2,0.2]\n",
    "train, valid, test =  dataset.split(split, stratified=False, strata_field=None, random_state=None)\n",
    "text_field.build_vocab(train)\n",
    "# print(text_field.vocab.stoi)\n",
    "# print(text_field.vocab.itos)\n",
    "train_iter = torchtext.data.BucketIterator(train,\n",
    "                                           batch_size=32,\n",
    "                                           sort_key=lambda x: len(x.line), # to minimize padding\n",
    "                                           sort_within_batch=True,        # sort within each batch\n",
    "                                           repeat=False)                   # repeat the iterator for multiple epochs\n",
    "for i, batch in enumerate(train_iter):\n",
    "    if i >= 10:\n",
    "        break\n",
    "    lines = batch.line[0]\n",
    "    #print(lines)"
   ]
  },
  {
   "cell_type": "code",
   "execution_count": 8,
   "metadata": {},
   "outputs": [],
   "source": [
    "cartman_text = \"\"\n",
    "for line in cartman.Line:\n",
    "    cartman_text += line\n",
    "# show the first 100 characters\n",
    "stan_text = ''\n",
    "for l in stan.Line:\n",
    "    stan_text += l"
   ]
  },
  {
   "cell_type": "code",
   "execution_count": 9,
   "metadata": {},
   "outputs": [
    {
     "data": {
      "text/plain": [
       "100"
      ]
     },
     "execution_count": 9,
     "metadata": {},
     "output_type": "execute_result"
    }
   ],
   "source": [
    "vocab = list(set(cartman_text))\n",
    "vocab_stoi = {s: i for i, s in enumerate(vocab)}\n",
    "vocab_itos = {i: s for i, s in enumerate(vocab)}\n",
    "len(vocab)"
   ]
  },
  {
   "cell_type": "code",
   "execution_count": 10,
   "metadata": {},
   "outputs": [
    {
     "name": "stdout",
     "output_type": "stream",
     "text": [
      "our wiener until white stuff comes out, and then put it in this cup. Yes, retard. Semen comes from your wiener. Now do it!  Well Butters?! Well pull harder! Try doin' it faster Butters, do you wanna go to jail for the rest of your life?! The you'd better get that semen sample no matter how long it ta\n"
     ]
    }
   ],
   "source": [
    "import random\n",
    "random.seed(10)\n",
    "\n",
    "cartman_len = len(cartman_text)\n",
    "\n",
    "def random_chunk(chunk_len=300):\n",
    "    \"\"\"Return a random subsequence from `spam_text`\"\"\"\n",
    "    start_index = random.randint(0, cartman_len - chunk_len)\n",
    "    end_index = start_index + chunk_len + 1\n",
    "    return cartman_text[start_index:end_index]\n",
    "\n",
    "print(random_chunk())"
   ]
  },
  {
   "cell_type": "code",
   "execution_count": 11,
   "metadata": {},
   "outputs": [
    {
     "name": "stdout",
     "output_type": "stream",
     "text": [
      "tensor([52, 40, 92, 56, 69, 35, 35, 94, 71, 71, 71, 40, 83, 29, 88, 88, 29, 52,\n",
      "        40, 92, 56, 69, 35, 35, 94, 71, 71, 71, 40, 77, 91, 29, 94, 40, 29, 94,\n",
      "        40,  6, 45, 56, 58, 27, 40, 89, 49, 45, 40, 88, 45, 89, 94, 27, 40, 35,\n",
      "        52, 73,  1, 94, 40,  6, 49, 40, 94, 49, 56, 52, 73, 91, 29, 81,  1, 40,\n",
      "        52, 35, 94, 52, 71, 40, 68, 40, 69, 56, 40, 81, 49, 73, 93, 40, 83, 29,\n",
      "        88, 88, 29, 52, 40, 92, 56, 69, 35, 35, 94, 71, 71, 71, 40, 83, 29, 88,\n",
      "        88, 29, 52, 40, 92, 56, 69, 35, 35, 94, 71, 71, 71, 40, 40, 72, 91, 40,\n",
      "        56, 89, 40, 80, 49,  6, 71, 40, 68, 40, 79, 57, 69, 46, 46, 52,  6, 40,\n",
      "        56, 89, 40, 46, 69, 81, 73, 94, 71, 40, 40, 99, 49, 45, 40, 88, 45, 89,\n",
      "        94, 27, 40, 68, 40, 79, 57, 69, 46, 46, 52,  6, 40, 56, 89, 40, 46, 69,\n",
      "        81, 73, 94, 93, 40, 40, 67, 52, 91, 52, 91, 71, 40, 99, 49, 45, 40, 88,\n",
      "        45, 89, 94, 93, 40, 99, 49, 45, 40, 88, 45, 89, 94, 27, 40, 79, 91, 52,\n",
      "        79, 85, 40, 29, 73, 40, 49, 45, 73, 93, 40, 30, 45,  6, 52, 71, 71, 71,\n",
      "        40, 99, 49, 45, 40, 85, 81, 49, 84, 27, 40, 52, 94, 79, 69, 57, 88, 49,\n",
      "        73, 27, 40, 56, 89, 40, 79, 69, 57, 88, 49, 27, 40, 49, 81, 52, 40, 52,\n",
      "        29, 88, 91, 73, 52, 52, 81, 27, 40, 94, 29, 46, 46, 29, 81,  1, 40, 49,\n",
      "        81, 40, 58, 49, 49,  0, 52, 40, 69, 73, 40, 73, 91])\n"
     ]
    }
   ],
   "source": [
    "def text_to_tensor(text, vocab=vocab):\n",
    "    \"\"\"Return a tensor containing the indices of characters in `text`.\"\"\"\n",
    "    indices = [vocab_stoi[ch] for ch in text]\n",
    "    return torch.tensor(indices)\n",
    "\n",
    "print(text_to_tensor(random_chunk()))\n"
   ]
  },
  {
   "cell_type": "code",
   "execution_count": 12,
   "metadata": {},
   "outputs": [],
   "source": [
    "def random_training_set(chunk_len=300):    \n",
    "    chunk = random_chunk(chunk_len)\n",
    "    inp = text_to_tensor(chunk[:-1])   # omit the last token\n",
    "    target = text_to_tensor(chunk[1:]) # omit the first token\n",
    "    return inp, target"
   ]
  },
  {
   "cell_type": "code",
   "execution_count": 13,
   "metadata": {},
   "outputs": [],
   "source": [
    "##a naive model following the lecture notes with 1 hidden layer - GRU \n",
    "class Cartmanboi(nn.Module):\n",
    "    def __init__(self, vocab_size, hidden_size, n_layers=1):\n",
    "        super(Cartmanboi, self).__init__()\n",
    "        # RNN attributes\n",
    "        self.vocab_size = vocab_size\n",
    "        self.hidden_size = hidden_size\n",
    "        self.n_layers = n_layers\n",
    "        # identiy matrix for generating one-hot vectors\n",
    "        self.ident = torch.eye(vocab_size)\n",
    "        # recurrent neural network\n",
    "        self.rnn = nn.GRU(vocab_size, hidden_size, n_layers, batch_first=True)\n",
    "        # a fully-connect layer that decodes the RNN output to\n",
    "        # a distribution over the vocabulary\n",
    "        self.decoder = nn.Linear(hidden_size, vocab_size)\n",
    "    \n",
    "    def forward(self, inp, hidden):\n",
    "        # reshape the input tensor to [1, seq_length]\n",
    "        inp = inp.view(1, -1)\n",
    "        # generate one-hot vectors from token indices\n",
    "        inp = self.ident[inp]\n",
    "        # obtain the next output and hidden state\n",
    "        output, hidden = self.rnn(inp, hidden)\n",
    "        output = self.decoder(output.squeeze(0))\n",
    "        return output, hidden\n",
    "\n",
    "    def init_hidden(self):\n",
    "        return torch.zeros(self.n_layers, 1, self.hidden_size)"
   ]
  },
  {
   "cell_type": "code",
   "execution_count": 14,
   "metadata": {},
   "outputs": [],
   "source": [
    "def evaluate(model, prime_str='I', predict_len=300, temperature=0.8):\n",
    "    hidden = model.init_hidden()\n",
    "    prime_input = text_to_tensor(prime_str)\n",
    "    predicted = prime_str\n",
    "    \n",
    "    # Use priming string to \"build up\" hidden state\n",
    "    for p in range(len(prime_str) - 1):\n",
    "        _, hidden = model(prime_input[p], hidden)\n",
    "    inp = prime_input[-1]\n",
    "    \n",
    "    for p in range(predict_len):\n",
    "        output, hidden = model(inp, hidden)\n",
    "        \n",
    "        # Sample from the network as a multinomial distribution\n",
    "        output_dist = output.data.view(-1).div(temperature).exp()\n",
    "        top_i = int(torch.multinomial(output_dist, 1)[0])\n",
    "        # Add predicted character to string and use as next input\n",
    "        predicted_char = vocab_itos[top_i]\n",
    "        predicted += predicted_char\n",
    "        inp = text_to_tensor(predicted_char)\n",
    "\n",
    "    return predicted\n",
    "\n",
    "def train(model, num_iters=2000, lr=0.004):\n",
    "    optimizer = torch.optim.Adam(model.parameters(), lr=lr)\n",
    "    criterion = nn.CrossEntropyLoss()\n",
    "    for it in range(num_iters):\n",
    "        # get training set\n",
    "        inp, target = random_training_set()\n",
    "        # cleanup\n",
    "        optimizer.zero_grad()\n",
    "        # forward pass\n",
    "        hidden = model.init_hidden()\n",
    "        output, _ = model(inp, hidden)\n",
    "        loss = criterion(output, target)\n",
    "        # backward pass\n",
    "        loss.backward()\n",
    "        optimizer.step()\n",
    "\n",
    "        if it % 200 == 199:\n",
    "            print(\"[Iter %d] Loss %f\" % (it+1, float(loss)))\n",
    "            print(\"    \" + evaluate(model, ' ', 300))\n"
   ]
  },
  {
   "cell_type": "code",
   "execution_count": 44,
   "metadata": {},
   "outputs": [
    {
     "name": "stdout",
     "output_type": "stream",
     "text": [
      "[Iter 200] Loss 2.355930\n",
      "     SKy ik the thes to g aansher ofe cein, Poane socs. dars ane fo the soe youp it cous arenChe shico the I pour! Whare ing. the theas ind Kat sh, thitha! domighy the, sochyoi cor ige weare yout Ahe hee cous we non? meyout fous im ty ris tes gar bouve ing! Whan'm tol ge mind You go Ot, Jer Ahelle Phod a\n",
      "[Iter 400] Loss 2.023634\n",
      "     Bund the Joreer up emy her? Whavee rune roorsine poreres so pick fit arcar wea't ass duss is the, thed ind toont oo tomyser bfing tous goss il Kavent! lof. I wast! UAw, wich, bese? What ourree. An, we kand foo gode enocheste dipes oo ase out! Do and raw thas tald ial bitsing use of ont magh! I've.  \n",
      "[Iter 600] Loss 1.976362\n",
      "     me is is care.  Gongit's a. I'm guy drihis some, Batt... Well hone I cund ther as man hickis she sare hoolle ser and hatht. I s. Labrid you in you ghing whus for in yout sumint shan in. What's so seap on the swars? And of eele, you ging!  fise nom look you bucking dike dool hime like arep some hores\n",
      "[Iter 800] Loss 1.999119\n",
      "     It's Claike we fuck it about do me bud betto wool our onty sime.  Wellich a wirf te peesthied could Sem, to corilly froist some. Kyle, leal, ther shaply of and Rell you somen'  I could that the my plaped pecking and hand thince the happer aw longoody Poom. That chall hove onomon from the santed asl \n",
      "[Iter 1000] Loss 1.726651\n",
      "     exelch. Well, ather!  Oh my sure, I'm you'g terend to bay Corgat maget! No hover. Oking, I wen't like Goddonted once mon't hasner. What ah. Ferright, you don't hingro, Stan Fighty? Oh. Drame, God way't thusf toret in how my bed but resome, we they betthahe, you'rr don't on your barss! Chen with your\n",
      "[Iter 1200] Loss 1.670164\n",
      "     There is try got it to sted you cunny the way in the take what about dawno!  Hey.  for what's gonman the kahally. And a for you steew where? I know do net Brack, in the all this howe do peesown them. I guys a bexcollars with up thy Grad. And get what Shan's but pasing to boot the probend?  Ink's fun\n",
      "[Iter 1400] Loss 1.915232\n",
      "     all rade, The have to tho East sere!  Ah. It your mam, sool make the lottle betid off! I need matching?! What on the chalke? Oh, Cartaking it to his a wattens new betic beling make so, haveat, I've goveraty wnot to got the compary? Okay! Alright?'! It's to cancrisit-ard nome. Well, I dank! You ssout\n",
      "[Iter 1600] Loss 1.639053\n",
      "     Mom. Jew, sim is I look that it doenteve fight to cott asper. We only stare praye seew. Well you for me wome stuped off have tore meaburs it?! It's for the ever the sim coor, Kyle the here an it sembed arring it ta may! Oh, that's ve of that day...  Phay, what ahnard don't been the six let your way,\n",
      "[Iter 1800] Loss 1.700963\n",
      "     this got on the Cricks at's more a for on And of problew lictile offorkabation sone have to caught screoundy.  Hey, I guess moush!  The chapper people all mones be need for it a Jisus like I cras on those pretsont school in's one and if the forstakin' the was of the troundse, but it's come carent ca\n",
      "[Iter 2000] Loss 1.700754\n",
      "     Stan, soo our totrous the contrare in ment it's trienter serice. They're lot on made your saped. We're got do you to forder in this up expleone I wanta in the bean's a liges to sem, let's sime you to get the wornd out our somother and the give me bestic quest mogatie- What? Kenny just blood! You suy\n",
      "[Iter 2200] Loss 1.600128\n",
      "     No- Tweed tear the rers or by prover right would excken the poiching! Well out or to secinilay. It is gonna mour me!  Ait!  it was I hale the pertand put the cake for mest finly here- Bir. Yes, if Stan. We're to have to people way here to me. Ah, I'll tone, works! To me it for is a vige, GUmH HE YOU\n",
      "[Iter 2400] Loss 1.629235\n",
      "     Dangy on om for anothings.  How our is in whowe to cauld ball Butters! And the life. You alling adright.  Wait.  How, and these how moreing good. This suping! Come of you got a but heh. Mox and amesco, Butters. What't bas?  God daside. Look, and we could you see that a mean. Mucher. I had we helping\n",
      "[Iter 2600] Loss 1.654354\n",
      "     to all! I'm it are you great is owen so girtt!  lead! That's uuararing of about it is preterns what me dad want to here of like take a lot chicked Butters. Stan, oor mogrins! Hey, don't get is mine! No! No! I know I'm gonna wartan a little nues. I just find his man the troo! And what you Wendy?!  Wh\n",
      "[Iter 2800] Loss 1.884827\n",
      "     Christmas!  Then you ain  when Buttersoss, and cool house, you guys, doing? What? He assant the nuts aroty your this tame and Kinty, doitr bund a right and.  Sell, I'm happeneded has cool that scellic right so give a bitch our asshole. I have to get the sexing right.  I can assbully so pretey. Up, M\n",
      "[Iter 3000] Loss 1.460927\n",
      "     All you gotty becule dource! No hellas mom!  No, I don. Chin Re Panns tobrauner somerome dored you say the sin swees dider.  guys.  Oh, you're prifatin, I have to pretty to be somerowby this mom-acound assholver my saying a stupid the greay.  Oh, how stupid then.  You have you're do this guys batche\n",
      "[Iter 3200] Loss 1.694807\n",
      "     he doys this Rigat rugh, come grands is Kyle in I really some him wire someing a for olrer that wants are only tootrection, guys if I totally some to Mem assead you go take in this mouth just as that butting, wan have to me and I have the ruse the Ging me to the sonnute time. That's a miss in the pr\n",
      "[Iter 3400] Loss 1.605792\n",
      "     Weady, and I think you just do started have us over did is like sure and the friends what there about is my home, I'm hise, and I guess besuus those please? No, Mr. Where, Kevin asskathal chiss with your ever party on my finsed and even think atand; the mestent, I think I'm guy Sailakital down, you \n",
      "[Iter 3600] Loss 1.803360\n",
      "     Net in the bind any finnot on the Prast shors is when the can't go. Then you want do not. Oh, My prisk, comin't, back. This ws here to know then saying any trous and today, and they head poor Oh No-ogh! We're gonna get saye gon't! Ford you and redetip to the Scott you guys. Ho there's Scuter home an\n",
      "[Iter 3800] Loss 1.577036\n",
      "     what shoust this ifface fundro over dollars and no not cood with more Hall of more anshoped that flestwork it outty playbe up to garning down dollars that hard on and me makilition, fuck, Tome on your urcer to all did.  Are you can the way, Kinky! This should you clided now, Kyle. Check it. ...uh, C\n",
      "[Iter 4000] Loss 1.219273\n",
      "     prote. It should been to keep Butters art really do! I am uscaust. Better. Only get to come seance in the gond a big tome getty to her to the meands.  Oh, excest me seem they class on your not her of me. I'm godnget nown the lenta nare to be been over the commelf?! Oh, oully freent!  And I'm gonna n\n",
      "[Iter 4200] Loss 1.491009\n",
      "     do you don't wanna hime a dollar. The first. Well that sel betterner, Butters, no, here. Look, prenkies work you got on the fat ready.  Well, I'm finily Kyle, secing up to play. No oncebeally. I get a took! It was coming right of am she walka took. Did you know what is cross to coll mo ne? Hey Craig\n",
      "[Iter 4400] Loss 1.365831\n",
      "     find you! You guys! Well, you guys! I want exere! I got lote of a stay?! It's twe truth on the ponsted fut of hours and play the lide for disk down. A hard to fight for you. Well we can think for up round the dooonor a compencems.  What won't skee? What talk you guys?? Who's Jimmy. Thew we sidolong \n",
      "[Iter 4600] Loss 1.446667\n",
      "      Kyle, we we got it! What deen? Who change  Kyle was write thing in the of the respice Kyle!  What as look Ken?  I wanna have for here to really with assholl on the deat sers and seary to sup I people to god in what that screw year that I had to the rest it, I ame to the rest people so matters.  Stc\n",
      "[Iter 4800] Loss 1.450511\n",
      "     me. Do we was my boybremsthey!  Dude, I can't believe the right box mouth of my has me. Dude! Go who cheach so for the Is fuckin' it's he-are working? We could, we can giving at an ever are, let's gonna way to be my little goos. It's us a the door only takes! Dude. Mr. Garris is gonna- Don't wanna t\n",
      "[Iter 5000] Loss 1.555793\n",
      "     my. Like are any on head class deal, scan. I ammurent your lift is she from that. I can do nothing for your every all in me all of that was a little will fecline! Not is our cears of me froin from it. I'm goin' the little need time in charcler of yes but... lass me here.  Uh, thin I'm gonna stef dir\n"
     ]
    }
   ],
   "source": [
    "model = Cartmanboi(len(vocab), 128)\n",
    "train(model, num_iters=5000)"
   ]
  },
  {
   "cell_type": "code",
   "execution_count": 45,
   "metadata": {},
   "outputs": [
    {
     "name": "stdout",
     "output_type": "stream",
     "text": [
      "[Iter 200] Loss 1.718147\n",
      "     you're going on the ready they are the wellowing there. Well, I had not firdolas. Stars, we got people gonna sure of come, I don't say looksah, later wen't says are gonna die thing on Earyens. Wendy, seriouslit. What? Oh what olterse-froms and finn, thank you-get Posers. We need a nack spolint.  Oka\n",
      "[Iter 400] Loss 1.560332\n",
      "     Must now. In the fuck your about atwey Lasy ass idea! It's a little school wrongertay shott! You know that is my mom say  are we comeary now it watch-ucare to the whole pitter out of coming, what?! This is whole ye, and he are to bebo move. Hey. Well I have a commermaning asshoget how sater, man a s\n",
      "[Iter 600] Loss 1.595891\n",
      "     well we get the stuchs the chick Warclisset. The big plady. I'm had it for secrate.  That? Oh my God!  Wellols, we was just a little stuff? And it's like this girls a pussy mome the very a pissing yourstem. We don't be pussy.  Pigare if come on!  Nothing stupid it going to up. I was a little sctees.\n",
      "[Iter 800] Loss 1.462477\n",
      "     son... tell you class to shrick my frin's. They don't had now. We're gonna get long the new the line, real please why whued. Oh ye-heh, huhry, Kyle's here? Lotelry?  Kyle! I love my cart and deally heart tyot from to nice bitch for the cloved on from the girls to right now.  booy lost anything to go\n",
      "[Iter 1000] Loss 1.422941\n",
      "     Unguls, Kyle.  What, you guys, we don't got it to me. I'm not like the world doch to me. Ms make something. Hey... I'm a hundred there. Oh. Huh, we're only who Parted childrent Tokench so, and this guy, right? Now I undie, you and the caretting all of country. Hey, so see, ho Stan, fint now chiling \n",
      "[Iter 1200] Loss 1.658062\n",
      "     me so or come goin' it was a mesides; asshout for him to talk to so cat to somethand to get it?  We got out of ourseever is just to have the people. No mon'y as fart someno more stop sweet. Good Oon one's for letsers. I hand it out that can mind like the greations. It scared on that to the cilarity!\n",
      "[Iter 1400] Loss 2.017220\n",
      "     My ignts of dollar. Butters, where are ready?! Yes, so I'm on the boat!  Butter!  Butters wilk ubaga-if these communise to call maybrest. Those courate! Oh, you gay these fight at some is stuff tunt three get you for a first comperio, skartested this way to be one daying on terries! I'm going don al\n",
      "[Iter 1600] Loss 1.532011\n",
      "     for sear. He's just like the light, seriously, so, we have all beding to beloblen and it. I didn't have to wen your black with I wanna the Pops in the little probet wrong about is fACK things throum man of the classs why we help in all the everything are specialy can buller for the Jew somewh. Ugh. \n",
      "[Iter 1800] Loss 1.423357\n",
      "     a poor make yes funny's for me... why I just do this tought for dick there very down micure very to deartup. It wasten to be just you this bather. I wasn't ere on the coneray, we have to the evir of this with Kyle and like Kyle. Heah you're a deathore my cool. I'm a bignd me.  And not me.  Well I'm \n",
      "[Iter 2000] Loss 1.411137\n",
      "     bad buss away! Miss who what the hell and dollols back to from the are the computer gotwors!  But it's a little fucking everyone!  You shole sate to deady lose this crubbelly right to Ray Pops of corritwin, the sure any else point, care in the fecrotter to think are that serious you guys, the ehd th\n",
      "[Iter 2200] Loss 1.731379\n",
      "     one's fine!  I'm trybod, I'm sorrs the strewhers to all the worddad bucks East. I really compunturhement Sluthrobid Poode mor-a -uh dor! Oh my God! Yeah? Well don't know uh, those what the mind out of the Shunk startis about humber thing. Oh, last, muny again.  But the left, mustic hell me the drurt\n",
      "[Iter 2400] Loss 1.310225\n",
      "     on you out to see. I got that him that has be the shoole, dude. No, I guess it, hippine!  What's it?!  This easy nothing. Satte- out dollars. Pooty!  NO I do at sometome, we have to my mom guy of your faster is check your seefing to your Kenny think out is founding, and now, Butters. No! NO I NFEAHH\n",
      "[Iter 2600] Loss 1.461133\n",
      "     Jimmy, you're not gonna go so go out offiry for me room Frong clost at a finded a sefund it, and he's hippie something moctarling the sure who was why here, you not fatahh, see you talk to look all by a hand over for Ded said of yous inst time! You guys! Can't all the little good and parts like this\n",
      "[Iter 2800] Loss 1.564596\n",
      "     Uh, Get the toush so unders on their ling, dude, poorting, Kyle, dude, what is thister each here? I'm not lote, Kyle. I'm ginger. Now doavitus, on you guys, yeah. I don't leing about that... body.  Oh, I wanna, you guys, the sure ago hours, and heh, d'carly don't think I think it's gonna get is was \n",
      "[Iter 3000] Loss 1.519889\n",
      "     for the weecket to really shit.  Oh my God. What are you a whole this? You guys take and eeesting!  Go another tokelt secance carch a long! Ugh, no! No out, dude, let my way drown and killed me to you of all right, bra!  Mover. What? Got me too.  I'm trying, Kyle!  Dude, what you, well, you go, you \n",
      "[Iter 3200] Loss 1.326663\n",
      "     Boo, would you stupid?  Oh a- what??  What we got our bad?  Hey Kenny! I thoudent a drearsment that we work and stupid all everybody really that day the clush. I won't beed an as all the started life perter wit- where was it work, the Craigy if it, Butters, whire we start for my mom in the work, don\n",
      "[Iter 3400] Loss 1.443624\n",
      "     you talk of him to beang about known your balls.  Oh, I know it it, I thought sweet! That's better who have to see they have in one to do it's girls with me fuck you who Bad doesn't student some bagins of it, and meet! I think you have to ris need?! You don't know, Stan, come brofe like it; I don't \n",
      "[Iter 3600] Loss 1.492322\n",
      "     one in thosed than you're this happers and life to real you!  I don't like while about this finally that condiesment of my bid corch we can tell you, come on poorces in the wotlless speaket, singing alrome? No! I'm guys. I'm haven cool! You guys on from a speciater and hands of you the hoolkeve that\n",
      "[Iter 3800] Loss 1.611881\n",
      "     Craig! Just have jokes! Who can't really forget ale?! Oh uh!  Mom, it's wrone, that thinking,  cool been a more. There's later. Butters, half your have about  smilked to fight, the perass ampoots on monerty? Murch. Yeah, the eating me. Mom-show, you know, we've troah. All temure, that's the hell you\n",
      "[Iter 4000] Loss 1.708293\n",
      "     Butters... What?  I just like the little gum like the ment amure. Alright, I know. Indoration. Ms. you turn on you, Butters show dollar. She can to sucked. I scare a sen as ass. Where we look my guy again. You wanna have my had to be some happening on there that. I'm money. Token us, what I think I \n",
      "[Iter 4200] Loss 1.412798\n",
      "     before that, you guys know, what dream? That was gottainettanyanyanybod. Yes. We were do it right.  Yeah, could you ney. Gave that to so, I wasn't it alreavid we have to mean time. Stathing here then! Dang! Oh, what are you gonna get you? What's thought to do we get me the sup scrown a buding bitch?\n",
      "[Iter 4400] Loss 1.260239\n",
      "     get to chock in viris servios... I'm not be trent! No I wanna second! There was learned!  Hello, we she know huh. Don't take that in the Chippinion in there conting pirvod, let's get my heck the man the lessor! Nobody fine!  Mom, Crax! Come Brock is Ch, nice. Yes, it's a little little Passion 77... \n",
      "[Iter 4600] Loss 1.345172\n",
      "     Hard it our back to let's do coming of in your wors, we're all find of my ass, it's inty thround you step, butters. I'm becenty, about to mean-back to see whistever that you already in my ascorray down. Yeah, reys!  It's so the mor. I was just beang with the parkenday, it's your hang out the way bit\n",
      "[Iter 4800] Loss 1.581306\n",
      "     Ninte costupe about be nothing the back all a balls now. Oh.  \"Hatanaha, I don't like on open me wastanted.  That's who Westim a coming to make a bitch!  Does why make something to like what a diachicar best shot!  You stake this plan bly of byes!  Oh!! Oh! I am I'm anybody palice! You get a bad awa\n",
      "[Iter 5000] Loss 1.537959\n",
      "     we can from Butters.  Oh, now lause many to fuck him then? Butters, where's gonna have ansenting it the little new that Divers filler build your shoot anghts the forstard day, Kyle's crap-he do to pre apare to onstanted me so much grade. Resperiond Butters. I was not the nutsed of at me seany of coo\n"
     ]
    }
   ],
   "source": [
    "train(model, num_iters=5000)"
   ]
  },
  {
   "cell_type": "code",
   "execution_count": 16,
   "metadata": {},
   "outputs": [
    {
     "name": "stdout",
     "output_type": "stream",
     "text": [
      "[Iter 200] Loss 2.545364\n",
      "     an it lit to Sole douded hecank  thy Lell atal uny bath uf? Laraouh he hang ant thele avco thakfr lout loo we al than ane thelt ths no wo chent barargit and ige you as Ih ohr clathabool ou? Well eupnat you tud was ucafs gof I't god Ka got thas hanle onf doa Houlrrea ridef Shra  heunn ah yhare ins aa\n",
      "[Iter 400] Loss 2.140696\n",
      "     ighing het dodot yto dale cron't seake the? Dyeve stome pooparsel that ot rated the pet is eang? Yeah the pitterne's kick woogh!  here the hofly, Sthe acker the sto it to loor got not alpende the bitter oke! I goter and thit it you got the Ptot my!  youh out ley and os hutn. Your ip te mach lithit'p\n",
      "[Iter 600] Loss 1.982842\n",
      "     inding the now weed soth! I fund the Stente! Oh, that sup one hiok's be see whis let to pupkay? I'd be the inna be to! All it then' your caed if on the wise be!  Jest I dien my for for back wortt! Hey Wes now live men the meyfas the meal go digh it come now out partrays one fop the poace Int you's a\n",
      "[Iter 800] Loss 1.740579\n",
      "     hang a his one! Th, I say leff the heard I'll weat. Oh you're hell, he coumme this not I daan Caridion him! They's sude! Ohou know.  Oh, you guys all and well to I don't fay hah are ass because time, Calld, would all the but! We fade fiid ass the hank, we just hand about wast a but may don't mone's \n",
      "[Iter 1000] Loss 1.953923\n",
      "     Kyle! What's got the purtlice a shick fight are say and and geniy, Kyle, somated fing, and really are sollan, so Wendy,  friendy, no, hey?! Mn Whh seater. We see I don't have to the neck happed rest and my on ball Las an is Eattose bart? Oh! Look, let's somen, the everyinge telling and see and and I\n",
      "[Iter 1200] Loss 1.983230\n",
      "     you live the mortirns are!  I dom overster. H've go to hell. Just take thanked momono. Come on thing the cour. But day made! Here!  What res and for the cheved okes looking oning more have that this people of gonvy! Have do you do really fruo, that finger in hems and fory, and dadn turk her some. Gi\n",
      "[Iter 1400] Loss 1.814823\n",
      "     they caded sce could up on more play, tarty has somenfs shit, I start all suck somether.  You know wants all all misting a love of something shost see is the penst's stupid is that people madesters for sull kick ass it. Pollack, you take sizs a resol, now our know. That have to dy my mading with I r\n",
      "[Iter 1600] Loss 1.823684\n",
      "     I wan some. Af... it's me right! Are up, and they Halling amall rid is the girls! I'm time the teally Eice they recove you guy bud. You gums in it. Butters.  You well that. It's not tweek. You guys, I don't saidee it. Hey, you s... If com.  Huh, Butters. Yam. Ah... I just like moricle. Lott, guy Jew\n",
      "[Iter 1800] Loss 1.694238\n",
      "     it are at some and desportee everythere good bust Kild aillopes's here. Yeah.  Uh we'd it past a chaint Mamny. Let's get me finces are to flame is theah. I can't at buss the . Now minched. Yeah, he wanty totel cater. I'm not the mamores. Yeah. I'm all they lone!  Suppy Catter and way and you see you\n",
      "[Iter 2000] Loss 1.882081\n",
      "     Pspinges people was just to slewsy you guys can in he bitch to people every. I hade, you see he say.  This is this out, Butters, and then thank you guys. I all just know? Thank you had to the dead of be pease enough tell to alat is the blarked in any ride over to meen it have is of any days don't ev\n",
      "[Iter 2200] Loss 1.609275\n",
      "     then drean of just to poor any-think the parents bust. Okay, what's going to she card and brow day. There's a put that dayor horse one have that wanna did to the pidsed copf of huhuhahahahahah. I'm arresther the Farts a tonet pietl there all dies all me and work this taarter here. Yes! Yes she shand\n",
      "[Iter 2400] Loss 1.686247\n",
      "     of the hell, Well red right. I don't just his bir are now. Tell they really have to we get any poon asslear, I dump as me. Now, munny's told damny. Can, we really guys, you go to nicely have your hell poor on.  I know where them. But that's gonna show it one of chopy try the scound mountrart, day I'\n",
      "[Iter 2600] Loss 1.735315\n",
      "     he would's some have to make this own their for my bark, you guys mayteat to my fong. I've need to my fanely finally nots?  Oh man, right! I'm a fruck's awolly cariza is some swottunisray in from the that whone Kyle? You want a seainite? Oh, Kenny they kill you sea now are it of you find you heart b\n",
      "[Iter 2800] Loss 1.507656\n",
      "     the creep! That's a might you, you could bitce!  Yeah, we're gonna be with a has a lot. Have and live ahead bitch you're gonna be impresent?  Yuh, how do you guys.  Yeah. But my set me. Shut, I'm gonna hear see the espyed butth-\"me find of my how, but you see a little's I dude? Can you doing, you're\n",
      "[Iter 3000] Loss 1.550433\n",
      "     things more our of their on the startes it... Americants something. What hunds these care crap. We my Grans all copper is my most some-hap. So we'll then tast with my Are my God matter ranitass shit up to get so propize. No you wonked another right—One more in the nuts something and I have a minlors\n",
      "[Iter 3200] Loss 1.973418\n",
      "     a shis asshole  doesn't got the parents into this waits me aln you day Some meats arreviously is gonna be a Chupposent, Christmas  Shit it fun in the gone and people on the making of come in this speclenal, and where are you stand outting all in the coon Now it we for all really good the welked it w\n",
      "[Iter 3400] Loss 1.539773\n",
      "     Check up down?!  Here! Why don't got being my guys. I'm like this you didn people better the Internies. I think I ride mountaid shock here! Put it out of teacher don't.  No play oblover belang to you to be one people from we can get out that some fingernement line than believe a bitch! I real norsed\n",
      "[Iter 3600] Loss 1.454735\n",
      "     that's the pericabecics. We're getting trade.  Yeah. There's the time are your play, like, everything. That way fuck you a that you white we're sacting. Oh, there's a bew your gamer propict even.  He here the mestional you movier ammy here with you have they word all the fation. It the hands, your h\n",
      "[Iter 3800] Loss 1.494336\n",
      "     speally get that? These all your lotuse? On you know who the shuffy. We shoah damnritaging start the hellome more coming and they don't have yoursk more drovil! We're life us for up whoa she gotsa pray of it found and he's show. There's worked her back for a pomy day and you kick bustelled you guys \n",
      "[Iter 4000] Loss 1.340832\n",
      "     good.  Aw sayin' him, Eric Collen ask where we're gonna get the huse. There.  Hey, Starts.  Take the hellates to Scott, this about the special, and Kenny prost, one.  No, you house. I told you. Well...  On. Really. Dude, the news. No miston, the guys! ...Waaburther that me? Yeah, if Kenny. Let's go \n",
      "[Iter 4200] Loss 1.362369\n",
      "     will happened believe of of the hell being gonna be help. I have like cress, come on. This looks cool. Oh, hey, you get love in you do!  You guys have no get up what the get the something Kyle, Clyde Butters? Hahahahahahahahahahahahahahahahahahahathere. I know I'll see that he need on, and get the g\n",
      "[Iter 4400] Loss 1.685254\n",
      "     on the may!  Aw, Kyle! The perfors seen Petcrin!  Kenny?!  He canse for a second, and then! I can see that!  Yes ende win to you hello! No! No, then the see- Eevorman for when he can't a boot now.  Thank you.  he's not give me out of the time for simpleseed. Aod day, stop and linite!  You know what \n",
      "[Iter 4600] Loss 1.941393\n",
      "     put out here it out of the Inda hoofper on Kenny! Eh, Kitty. I want to unter you ass! No I said and Kenny, Kyle tomorrow Jimmy, Kyle, Kyle! Hey But pass, Kyle double remember in the pader and Kyle On Simple scome in the pie dound tomatass. But it's scies, Kitty Rade time. What? I'm somelides. Ey, yo\n",
      "[Iter 4800] Loss 1.669702\n",
      "     In a dad?!  Can't weir put this to live we're never born off!! I will be somewhin!  No cain down I down, Kyle!  And school, don't contrallit, I have a clup, did you hear people around a can worsia home! I will? It's evon his little bitch!  Wold is! I can in hard.\" It's dorrist! Now, I wanna be in ri\n",
      "[Iter 5000] Loss 1.444106\n",
      "     Child Grant Spowgod tomatory! You feel our blood for see-awh! That's times time away people! I had all rimp right body! It's will be the door for my big size to say! Who wait!  Aldive Crap rovested, that's last our fucking sunder ...Okay, we're my door. But I'm sorry, else not nete course my basted \n"
     ]
    }
   ],
   "source": [
    "model1 = Cartmanboi(len(vocab), 128,2)\n",
    "train(model1, num_iters=5000)"
   ]
  },
  {
   "cell_type": "code",
   "execution_count": 17,
   "metadata": {},
   "outputs": [
    {
     "name": "stdout",
     "output_type": "stream",
     "text": [
      "[Iter 200] Loss 1.465554\n",
      "     And I don't take that if I woncherent is gonna drost about!  Well do you are shrepped me only about on are speristions! Sir countralion! Time. Okay, he'd and agree in a cart on your postianolising of here. You know what dolet's maturahcher this prosper, and you sandaubly try to said to give to start\n",
      "[Iter 400] Loss 1.770811\n",
      "     stupid of it. I could leave through arresk the whole was serious!  I sube I'm seriously. In more back to me. I think you know moghey we have a seard would a serious, you mean. Well, I want that school other made. She's a won piggy gool. You duid asseve me and and stop without the fuck But make them \n",
      "[Iter 600] Loss 1.557301\n",
      "     it. Ey, heh.  She us. He life? I didn't go our commarday doesn't show.  Help.  Hey, a minute. You're gonna have bepind in toter it a gamerit in them.  Me they don't have to clear friend.  Oh, wow, I want everyone in my mom's gass care bad are Jews Christ!  Hey, here you know where it checking us a b\n",
      "[Iter 800] Loss 1.348552\n",
      "     right here!  People from now. Yes this takes, Kyle. You're dumks. That's enough! You go!  Dead bill kid? That's pretty through!  No, now I've been water down, Butters! Hahahahahah! You don't know, the hell  That's now! Let's go lain's are plunner or we had because they find equice. This is act that?\n",
      "[Iter 1000] Loss 1.633928\n",
      "     candy ladent shearal and please. Alright, Kenny, huh? Huh, God, to find out of the most right doing watching and Kyle! Go did you are mad about Kyle. Here I'm seen my friends bark in the plage good. Look, and let's meer.  So I'm about in here. I start on you thing old Scut with Bar flame. No make my\n",
      "[Iter 1200] Loss 1.787158\n",
      "     guys?! Wwhat you invence in is childs! Is the sall are cool! But I'm nitsident in stips men shot off! And I got my both the parting wide easy! Come wicky! I'll go totally dumb! The next get be ten anyole, TV show you think... I could that knows... Go because we wanna take pirth time sitt in the time\n",
      "[Iter 1400] Loss 1.528866\n",
      "     How specisty, Butters.  That's a guy you thre. Uh... Me was that movibay, you streef am sight... Right, fuck. I think come on, I need to crapped to have a bathroom with Specious around... is the hate and cleary crap disbust finally completer. Oh, girlfy to be my hell, let me of ones to around to cal\n",
      "[Iter 1600] Loss 1.618718\n",
      "     he can the frood your trusticy!  Aw, that's fucking my asser teacles and me sick in my ass. Now Kyle. Yess now, I didn't wanna go what the music fucks, you guys are penylester you. All right, the hall is care back my smerl. Nooo, and, the fuck are A minute write different fuck my ponytes was attarri\n",
      "[Iter 1800] Loss 1.457177\n",
      "     where is butters the noxping supposa all please fairy trap with Christmastdand hours. Everyone caught Bort my Passing Jewish of Jew out from be guys.  Okay, my caming pissou!  Seeging, Mom, you are all the good that the Last or the house, Buttouth Power Poofs right instle take. You know the god can \n",
      "[Iter 2000] Loss 1.482552\n",
      "     they like, give 9/11, Butters. I know why no totament with me.  You start. That's all going to fill you to be no we can't we am they really have to seen about the only trunkinc sense.  Ooooormer back oft, that can't want to be open, and sayer it out, you guys. We need you, Twishory was butchere.  Re\n",
      "[Iter 2200] Loss 1.243578\n",
      "     at the only book at in his births: go ass! This exircefions! Yeah! We won't fewly very here! Let's just kind of my God! This is a God yats me hee! Can't find we have to be sorry at spication unse and then my black of my mom's some tway!  How work! This is because the finally ofere a baters. We call \n",
      "[Iter 2400] Loss 1.392865\n",
      "     the people here you're a Jew!  Yeah, well, heh, why don't you mean, now who's bulllers. Hey Craig, why, there's dollar you guys, I told you go.  Well, isn't, Kyle, as he and your year to thing we retter relife mean. Well, then you are you.  That was to you can into be complete watching to Chais, Sta\n",
      "[Iter 2600] Loss 1.663401\n",
      "     and fidds. I'm gonna call the help having of besk.  I want to take us belongs are the bigged about you a way the shoots. Licketed of you. I'm screwm into a can't call a buinker a little best the pirates and the boor; I just acall this well.  Oh, dude, I've gotfa be a huftle jokes little bashing. No.\n",
      "[Iter 2800] Loss 1.433758\n",
      "     and when you whole take it, ry.  Oh my God dreamsed in day! Now! Okay, so sons in South! Please, you're not forget already to you Kyle! Nobody work of a thanks it at last Dangy, big long now, that down student! You guys?! Now, seconver I'm donna be pay want to take buck of here!  Oh! Goddamberty, ha\n",
      "[Iter 3000] Loss 1.329407\n",
      "     the house and myemson his is my fathers, eatin' any I'd been think it's offery videot. Ny, Butters. Oh, is a because who the fuck the time to think jokee, most off. Now I saying and then he can't be gonna think you to stop us going to mevel there, we cool about me, Kenny. Ahhh, maybe I'm off the tim\n",
      "[Iter 3200] Loss 1.420028\n",
      "     in the bas at kid Stancie?! Butters!  Oh! Ow! Oh yes!  Oh, Body. Sweet!  Oooo!  Okay, you'd better go out for XBox Treet has can't want us to the hell is I wanted to expect me to go with toical imail moves with my one shornelunga so make a cure for him in the shit until work can't I might be said it\n",
      "[Iter 3400] Loss 1.197528\n",
      "     whise, sixable.  All right, what do you guys. What we have anyKow, how everyone? Harry Jew, is so that is. That's so man. Who's our slay, she's not with what is my in fies?  Loved, so haha! And then I'm told-own people see changed we're to seew.  Oh, that's sucon to the line in the dind of my left p\n",
      "[Iter 3600] Loss 1.473810\n",
      "     to get out and talk there are you to the Carolidy fat.  He has on another coals and funny make us. They're copy to make the fuck is Timmy. All right. They'll the day with blay and say it to get a fount better.  Well let's go to and on this best for-doles times out of Asser face. And now is not a gid\n",
      "[Iter 3800] Loss 1.433601\n",
      "     please?! If you need you see? Oh, it's Jews and be suving to still hear it out his ZIVp of here! Nothine them stay theme! So I'm getting histarting ended in the nightnbar! It's NOT it!  Ere! And so when you guys!! Now did you're day kidding it have at yearpanore are, estive Züpiraty Cakesuh.  Hey, I\n",
      "[Iter 4000] Loss 1.228476\n",
      "     like a bitch, Christmas for not a boinumbion. All it!  Hey, that's whoa! Oh, we need to kill people like you!  Sucky then son. It's hurs all a binger be so prodentle students needs to be all the last night in the next seriously died. It's all right the look, they all all your balls guys. Maybe some \n",
      "[Iter 4200] Loss 1.349759\n",
      "     it gonna find that, what the and the gravel in the crait, and then then you feel right now.  Sure melieve shit that it with us all your abortions. Hey you made this bought the foundan, boyle the mean in Winter the place day past gonna get trapper. You wennard that fuckin' a spire on Melbars? Oh no, \n",
      "[Iter 4400] Loss 1.589808\n",
      "     was the preterted at the seemandandard! And a bitcheh!  Yeah! This is not a dunner in them!  Christ! Look. Dude, we don't think never been matter-Cartmanna. You're the girm. That's not Genymant, you talk you you neet, you pretend here! Yeah, how Game Butters? Why is the one out!! Yeah yeah-couse to \n",
      "[Iter 4600] Loss 1.651895\n",
      "     this day watch and find about to see a score! Inner asshole like the rosentman was asshole! Aw mommy!  Back! Don't tooka me! That's a mator isn't a gings! No, hou? Mmm? Maybe you know what do you? Prossies!  Because this do you think I think you're are to tell you to take who I pow them, that's the \n",
      "[Iter 4800] Loss 1.499994\n",
      "     thank you have them. You gotta paiding... That's right! No is a thing?! What?! You doing? A hostic is like a from his fuckin' a don't heard me, lading his fat, Clyde, why doesn't know? Looks it? What the hell are you ass offersicin?  Praise it's a lotion. And need to think that's from his farders. I\n",
      "[Iter 5000] Loss 1.437853\n",
      "     second away has a city is a whole, you smelling my Margh, right? The big schonormahadding about it? Hey, the time. That's gonna be a deligies the drugs then fight.  You guys, you just should stop start in the boget, and then your down, seriously, you shin' for the court all the double cropitily sher\n"
     ]
    }
   ],
   "source": [
    "train(model1, num_iters=5000)"
   ]
  },
  {
   "cell_type": "code",
   "execution_count": 18,
   "metadata": {},
   "outputs": [
    {
     "name": "stdout",
     "output_type": "stream",
     "text": [
      "[Iter 200] Loss 1.477062\n",
      "     transs in this can't do getting in your stosed my. Okay, let de. They're a Lat time. We jusk the school says would the cast stupid Hey! Well and all to day Kenny, how's a pizzgie!  OU SI UPPH, I've stupid as he like to do. I just don't understand your and the stupid picture and getting cry that and \n",
      "[Iter 400] Loss 1.283922\n",
      "     her this too? You stupid stand of drive, my say our whole Kenny. And we're a swid: we're not gonna all die, Kyle. Oh my God. Oh, you don't want a coodercheal or the face, Token... is a high isn't up, and here you all our day and it too. When we're saved to pluy. I wasn't not it. I was started to thi\n",
      "[Iter 600] Loss 1.707678\n",
      "     AIDS. Yes, see we won'll have a hands of everything. I'm not us I was to specond us.  Goddamnit! Eh! Look ho he right with you asshole!  This Has get the poby! You guys!  Yes to kie! Everythis ever smells and Is like the black to be a real up to be right now. Yes, sure you to the till you not finall\n",
      "[Iter 800] Loss 1.272454\n",
      "     right. Uh. It seee.  What? I'm just so a Mar. But in the Black to born around haven.  Ah...One! Haha! No no! Oh God, it should you all tryin' poor!  No is heh. I can't find moves the scary, and with her the port.  A-... we wanna be tryin'? Now! Oh, you guys are the nuts! Strun's! Nor call you care, \n",
      "[Iter 1000] Loss 1.356164\n",
      "     Butters.  When the cowpanite room, Kenny! In the way one of the now convenated himsy.  Why don't folwer there, you guys are the commercial-could stopped motake that who catch enough to have to take rulish? Uh that's above that Sanmans to me and remoc, come on, Butters, Butters, that's it off. Ugh to\n",
      "[Iter 1200] Loss 1.391728\n",
      "     I've got a littir cen making break and a pid and crime their candy, but, heh, you guys. We're an apiture. Let's say, Kyle. How dream a lint power of your weed as and... dance like an any back to me chickeny. It's like that the muscite. Good.  Oh, rich and you do, it's like being a diver just man!  C\n",
      "[Iter 1400] Loss 1.545386\n",
      "     go!  Kenny! You get should I never see I get tass. But we enough through fast airs just leave my show expcassites?  No, Mr. Mably Kyle, but me, right on you have to see, we have place into you doing party a minute. All right, we can't life out, Kenny. It's a little door doing that.  Hey, that's what\n",
      "[Iter 1600] Loss 1.661311\n",
      "     to get in his son his reads and singly away assholes. We've got our for counn there, I can start will learnnot like, Kyle. Look, and kept it it now, I've been come. Get out of a damn have a latelies shar lives, it's fromm, like, hold on this is what wasn't new Kellicurageans was the wer. You guys! W\n",
      "[Iter 1800] Loss 1.581335\n",
      "     it is- I've got ths fort anybody aach of she's a boy shot funny to have right. Nice dederts.  Ow, are you gnt that we'll have to sreak asshole!  Hey!  Now I'm seart of me! I didn't have stupid last way to dama! Find the was wookis and since off! Ale you right this assholed down here are sorry us our\n",
      "[Iter 2000] Loss 1.310470\n",
      "     Jeharl! Our gread lapina! What? What? Fudjers' rader?  No, the toor in my mope not fart of our complete of the lotion to my mom playing to have an all put your boy will be an ammand here, but how makes us that ming? Become my ond my Ammoceave Park, Kenny, look?  The fard until me one will look down \n",
      "[Iter 2200] Loss 1.441242\n",
      "     the cold. But now my budge. In the can so bitches. But I would know how work his and then can be not stupid techer. Old mom is country; it know. Oh yeah. It's all nincitan.  In the to crew me in the face country spirched of my mom to here. Good don't you. All right to the prun chicken ask he can't b\n",
      "[Iter 2400] Loss 1.429711\n",
      "     and not go feal coming tash fags, and what's joketes and touch and one people can't take him again.  I son... until we know how up on my hard in on my doubless. It's your hours.  Yes, at lose, so that was totally took Tear. The and look, and, that too. Really??  Yeah? There has something in the and \n",
      "[Iter 2600] Loss 1.618025\n",
      "     But fine! Take me a hold of that ad super a matter Peter! Everyone me easy. But I’m some presentationah!\"  How you say? Come on song and kind of comes! I'm just something! Wait!  Here's a toporath conther and be time! The most gonna be ready at Bart! Because we need that we're so at what then some d\n",
      "[Iter 2800] Loss 1.346253\n",
      "     butters cream, now I live to concers our goddamnit, bucks with my mom chirlow of it with the money faggot, Stan, and then you are crapping a hell out my liftics. And one, dude, it's just can't leave you, seriously him. Shut up, nice. I can't understain you see, on the ponion fenter. You've got a dic\n",
      "[Iter 3000] Loss 1.779831\n",
      "     money I can't be here, and us some nice to be in the cold cowers whoa... that on that one shut the wooded for somebody sellome, I suck... No, I might be up. Goddammicrains is what why wunny I believe we mushered the lougl what the school cortuanion? Thank you, Kyle who come and they almust plays who\n",
      "[Iter 3200] Loss 1.460289\n",
      "     I won't go back to the way there, and I told you much yourself my Deam. I can't intery long in my alunks. ...All right? Let's be please laids for the how survins out in the mornine in the world and show.  God your parents and now!  I told you all gonna be a momen, and I'll wanna are sated, maybe I g\n",
      "[Iter 3400] Loss 1.383846\n",
      "     I was come?!! You don't fint the truth Sawalletive are the cheated a tight. Yes. I be was licks. Yeah, he seally. Alright he meet, I do to lid the past right, and you spreated me to see that throw in the matelad down so doesn't feel already cheated a minorite, as ready? Oh. He's words. Them is it?  \n",
      "[Iter 3600] Loss 1.281133\n",
      "     free to the good, Tike hands. Let's sure. You shop my tickenal against of pack. Yes. Well, that is gonna guys to show maybe toncques than Maybe and people stand about that Goddamn. So I dong a real! I am your party! Oh hey!  Dad it is going to if everyone won't go on a little marth of your Games on \n",
      "[Iter 3800] Loss 1.818423\n",
      "     to seet us the Jimmy?! I am the trapper line! I am says it talks and comsitates should me. He's just buzzed to the buys, but, that, preind the living out on, for an armun to hell.  You guys are right storve it, no, you can get my brofely because I think you grarite! Okay, the truth that, we can do i\n",
      "[Iter 4000] Loss 1.233930\n",
      "     Black, you are handing it was something in a blast that Kyle. I don't made all bull all too has friend without Kyle is not gonna be fucking going anyuning the guys, Kyle, Kyle, the hell our crappen for seriously, Kyle, so we are an the grap and something I have me interificacragaaa, and I say our go\n",
      "[Iter 4200] Loss 1.360425\n",
      "     all the Poofs Bear.  And I was a stufffine in the anymore.  It's cay's, 1776, what the hell is I have all beiried. Um come in out in my people applears tell me.  Fuck you go, I know? I was stay. Uh he is all of it? And it's on the fight. Butters, I have to be use. Butters, no!  Alright, we think Sta\n",
      "[Iter 4400] Loss 1.402366\n",
      "     well! Yehh! I lead in on sound really the couches! Let it, girls and I deet me you, I leade you to feel so bashang out hands here pissy grade, and I'll blamed to go!  I can stanced himself! Oh,!  No now, when your penis!  You can all kids through FUCK THE THEY DO WHALKES! I do, we song out of here's\n",
      "[Iter 4600] Loss 1.396193\n",
      "     spear there! Hown I spint? Oh maybe Churpluss! What?! Well they should speaker here! It's up to see like you. I start. Butters. No, wore, soon theek which the grassis Cartman specins. So I walken. We have to do heaped them. Can you guys! Can Tosstitter don't think it well? Of course wear we are goin\n",
      "[Iter 4800] Loss 1.356632\n",
      "     what having to be detertestaking? Yeah, yeah, wend to see for a bad coming, all the one, Crapper I was to left that traasternong in the front of something, but what where we don't know? We well the tootI kill these stay we have to see of I can until what's a nuts, so what do we can alang soldion? ..\n",
      "[Iter 5000] Loss 1.469491\n",
      "     Wendy? Teching to took the video for Christmas c-bancies spiement did out of my defent and seeme say it son of a bitch about it. What? Nooo, they are, I'm scott a pussy Poll Crush.  I don't want the bay cryster. Weak, there, every while are the family child Brask his peace? \"It's our friend and I ju\n"
     ]
    }
   ],
   "source": [
    "train(model1, num_iters=5000)"
   ]
  },
  {
   "cell_type": "code",
   "execution_count": 210,
   "metadata": {},
   "outputs": [
    {
     "data": {
      "text/plain": [
       "\"Kyle! That's right! We're taken a costume to see the school are that it this is a greatest! The Parton\""
      ]
     },
     "execution_count": 210,
     "metadata": {},
     "output_type": "execute_result"
    }
   ],
   "source": [
    "evaluate(model1, prime_str='Ky', predict_len=100, temperature=0.6)"
   ]
  },
  {
   "cell_type": "code",
   "execution_count": null,
   "metadata": {},
   "outputs": [],
   "source": []
  },
  {
   "cell_type": "code",
   "execution_count": null,
   "metadata": {},
   "outputs": [],
   "source": []
  }
 ],
 "metadata": {
  "kernelspec": {
   "display_name": "Python 3",
   "language": "python",
   "name": "python3"
  },
  "language_info": {
   "codemirror_mode": {
    "name": "ipython",
    "version": 3
   },
   "file_extension": ".py",
   "mimetype": "text/x-python",
   "name": "python",
   "nbconvert_exporter": "python",
   "pygments_lexer": "ipython3",
   "version": "3.6.7"
  }
 },
 "nbformat": 4,
 "nbformat_minor": 2
}
