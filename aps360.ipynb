{
  "nbformat": 4,
  "nbformat_minor": 0,
  "metadata": {
    "colab": {
      "name": "aps360.ipynb",
      "version": "0.3.2",
      "provenance": [],
      "collapsed_sections": [],
      "include_colab_link": true
    },
    "kernelspec": {
      "name": "python3",
      "display_name": "Python 3"
    },
    "accelerator": "GPU"
  },
  "cells": [
    {
      "cell_type": "markdown",
      "metadata": {
        "id": "view-in-github",
        "colab_type": "text"
      },
      "source": [
        "<a href=\"https://colab.research.google.com/github/litongzheng/APS360Project/blob/master/aps360.ipynb\" target=\"_parent\"><img src=\"https://colab.research.google.com/assets/colab-badge.svg\" alt=\"Open In Colab\"/></a>"
      ]
    },
    {
      "metadata": {
        "id": "BjxWqS3WZiRo",
        "colab_type": "code",
        "colab": {}
      },
      "cell_type": "code",
      "source": [
        "import pandas as pd\n",
        "import numpy as np\n",
        "import csv\n",
        "import torch\n",
        "import torch.nn as nn\n",
        "import torch.nn.functional as F\n",
        "import torch.optim as optim\n",
        "import torchtext\n",
        "import numpy as np\n",
        "import matplotlib.pyplot as plt"
      ],
      "execution_count": 0,
      "outputs": []
    },
    {
      "metadata": {
        "id": "Wt67EYQwF3-B",
        "colab_type": "code",
        "colab": {
          "base_uri": "https://localhost:8080/",
          "height": 85
        },
        "outputId": "910951e9-4b1d-4e02-c733-07e4aa0ee986"
      },
      "cell_type": "code",
      "source": [
        "!nvcc --version"
      ],
      "execution_count": 42,
      "outputs": [
        {
          "output_type": "stream",
          "text": [
            "nvcc: NVIDIA (R) Cuda compiler driver\n",
            "Copyright (c) 2005-2018 NVIDIA Corporation\n",
            "Built on Sat_Aug_25_21:08:01_CDT_2018\n",
            "Cuda compilation tools, release 10.0, V10.0.130\n"
          ],
          "name": "stdout"
        }
      ]
    },
    {
      "metadata": {
        "id": "3XeZ8t8BGB7W",
        "colab_type": "code",
        "colab": {
          "base_uri": "https://localhost:8080/",
          "height": 34
        },
        "outputId": "f3740bec-5f7f-437e-d0fd-82c6efc0c8b5"
      },
      "cell_type": "code",
      "source": [
        "torch.cuda.get_device_name(0)"
      ],
      "execution_count": 43,
      "outputs": [
        {
          "output_type": "execute_result",
          "data": {
            "text/plain": [
              "'Tesla K80'"
            ]
          },
          "metadata": {
            "tags": []
          },
          "execution_count": 43
        }
      ]
    },
    {
      "metadata": {
        "id": "tBvHOHB2ZiRz",
        "colab_type": "code",
        "colab": {}
      },
      "cell_type": "code",
      "source": [
        "# sp = pd.read_csv(\"All-seasons.csv\")\n",
        "# sp.replace('\\n',' ',regex = True,inplace=True)\n",
        "# sp.to_csv('sp.csv',index= False)\n",
        "# sp.head()\n",
        "# cartman = sp[sp.Character==\"Cartman\"]\n",
        "# stan = sp[sp.Character == \"Stan\"]"
      ],
      "execution_count": 0,
      "outputs": []
    },
    {
      "metadata": {
        "id": "tTzUWkV8gSlO",
        "colab_type": "code",
        "colab": {
          "base_uri": "https://localhost:8080/",
          "height": 122
        },
        "outputId": "10adbc79-9d45-44f8-a329-fb993a460ea6"
      },
      "cell_type": "code",
      "source": [
        "from google.colab import drive\n",
        "drive.mount('/content/drive')"
      ],
      "execution_count": 14,
      "outputs": [
        {
          "output_type": "stream",
          "text": [
            "Go to this URL in a browser: https://accounts.google.com/o/oauth2/auth?client_id=947318989803-6bn6qk8qdgf4n4g3pfee6491hc0brc4i.apps.googleusercontent.com&redirect_uri=urn%3Aietf%3Awg%3Aoauth%3A2.0%3Aoob&scope=email%20https%3A%2F%2Fwww.googleapis.com%2Fauth%2Fdocs.test%20https%3A%2F%2Fwww.googleapis.com%2Fauth%2Fdrive%20https%3A%2F%2Fwww.googleapis.com%2Fauth%2Fdrive.photos.readonly%20https%3A%2F%2Fwww.googleapis.com%2Fauth%2Fpeopleapi.readonly&response_type=code\n",
            "\n",
            "Enter your authorization code:\n",
            "··········\n",
            "Mounted at /content/drive\n"
          ],
          "name": "stdout"
        }
      ]
    },
    {
      "metadata": {
        "id": "DPYwfw_9ZiR6",
        "colab_type": "code",
        "colab": {}
      },
      "cell_type": "code",
      "source": [
        "sp_text = \"\"\n",
        "\n",
        "chars = []\n",
        "i = 0\n",
        "for char in open('/content/drive/My Drive/Colab Notebooks/character.txt'):\n",
        "  chars.append(char.strip() + \":\\t\")\n",
        "  if i>=70000:\n",
        "    break\n",
        "  i = i+1\n",
        "lines = [] \n",
        "\n",
        "i = 0\n",
        "for line in open('/content/drive/My Drive/Colab Notebooks/Line.txt',encoding=\"ISO-8859-1\"):\n",
        "  lines.append(line)\n",
        "  if i>=70000:\n",
        "    break\n",
        "  i = i+1\n",
        "        \n",
        "for i in range(len(lines)):\n",
        "  total = chars[i] + lines[i]\n",
        "  sp_text += total\n"
      ],
      "execution_count": 0,
      "outputs": []
    },
    {
      "metadata": {
        "id": "ZHvSUDQ1jCtm",
        "colab_type": "code",
        "colab": {
          "base_uri": "https://localhost:8080/",
          "height": 34
        },
        "outputId": "484e3e34-ff9c-4879-e8c1-5e7eba988be4"
      },
      "cell_type": "code",
      "source": [
        "len(sp_text)"
      ],
      "execution_count": 27,
      "outputs": [
        {
          "output_type": "execute_result",
          "data": {
            "text/plain": [
              "5054277"
            ]
          },
          "metadata": {
            "tags": []
          },
          "execution_count": 27
        }
      ]
    },
    {
      "metadata": {
        "id": "KqcHz4_vZiR9",
        "colab_type": "code",
        "outputId": "8b3bdd04-a7fe-41c8-ba68-027866f89743",
        "colab": {
          "base_uri": "https://localhost:8080/",
          "height": 34
        }
      },
      "cell_type": "code",
      "source": [
        "vocab = list(set(sp_text))\n",
        "vocab_stoi = {s: i for i, s in enumerate(vocab)}\n",
        "vocab_itos = {i: s for i, s in enumerate(vocab)}\n",
        "len(vocab)"
      ],
      "execution_count": 28,
      "outputs": [
        {
          "output_type": "execute_result",
          "data": {
            "text/plain": [
              "131"
            ]
          },
          "metadata": {
            "tags": []
          },
          "execution_count": 28
        }
      ]
    },
    {
      "metadata": {
        "id": "1LQFT9xfZiSD",
        "colab_type": "code",
        "outputId": "8ed3cea1-ac75-437d-9e5d-a54fd3cc4806",
        "colab": {
          "base_uri": "https://localhost:8080/",
          "height": 54
        }
      },
      "cell_type": "code",
      "source": [
        "import random\n",
        "random.seed(10)\n",
        "\n",
        "sp_len = len(sp_text)\n",
        "\n",
        "def random_chunk(chunk_len=300):\n",
        "    \"\"\"Return a random subsequence from `spam_text`\"\"\"\n",
        "    start_index = random.randint(0, sp_len - chunk_len)\n",
        "    end_index = start_index + chunk_len + 1\n",
        "    return sp_text[start_index:end_index]\n",
        "\n",
        "print(random_chunk())"
      ],
      "execution_count": 30,
      "outputs": [
        {
          "output_type": "stream",
          "text": [
            "an:\tYou see Token, people really enjoy seeing African-Americans on the news... Seeing African-Americans on the news, not hearing them. That's why all African-Americans newspeople learn to talk more... wha, how should I say... white.  Token, all the great African-Americans newspeople have learned to h\n"
          ],
          "name": "stdout"
        }
      ]
    },
    {
      "metadata": {
        "id": "-CIGTEDqZiSG",
        "colab_type": "code",
        "outputId": "6f473b5b-3b52-436f-a6f4-dba8cc0c9444",
        "colab": {
          "base_uri": "https://localhost:8080/",
          "height": 391
        }
      },
      "cell_type": "code",
      "source": [
        "def text_to_tensor(text, vocab=vocab):\n",
        "    \"\"\"Return a tensor containing the indices of characters in `text`.\"\"\"\n",
        "    indices = [vocab_stoi[ch] for ch in text]\n",
        "    return torch.tensor(indices)\n",
        "\n",
        "print(text_to_tensor(random_chunk()))\n"
      ],
      "execution_count": 31,
      "outputs": [
        {
          "output_type": "stream",
          "text": [
            "tensor([ 56,  54,  49,  10, 118,  96,  10, 115,  46,  28,  18, 109,  67,  10,\n",
            "         19,  74,  92,  38,  10,  38, 109,  19, 110, 130, 118, 109,  12,  96,\n",
            "         10,  89,  10, 109,  74,  93,  49,  67, 109,  93, 112, 109,  75,  45,\n",
            "         37,  19,  92,  89,  45,  93,  92,  67, 109,  75,  93,   4,  67, 109,\n",
            "        110,  89,  10, 109, 110,  74,  74, 109, 118,  92,  49, 109,  49,  93,\n",
            "         44,  10,  49,  96,  10,  89,  73, 109,  79,  96, 110,  49, 109,  67,\n",
            "         93,  92, 115,  38,  67, 109,  74,  45,  33,  10, 109, 110, 109,  44,\n",
            "         93,  93,  38, 109,  45,  38,  10, 110,  47, 109,  56,  62,  92,  49,\n",
            "         49,  10,  89,  67,  46,  28,  42,  96,  93, 110, 109,  75,  93,   4,\n",
            "         86, 109, 117, 110, 130, 118,  86, 109,  56, 117, 110,  89,  49, 130,\n",
            "        110, 115,  46,  28,  65, 110, 110,  96, 110, 110,  96, 110,  96, 110,\n",
            "         96, 110,  86, 109, 109, 113,  10,  89,   4, 109, 112,  92, 115, 115,\n",
            "          4,  86, 109,  30, 109,  67,  92, 118, 118,  93,  67,  10, 109,   4,\n",
            "         93,  92, 109,  89,  10, 110,  74,  74,   4, 109,  49,  96,  45, 115,\n",
            "         33, 109,   4,  93,  92, 109,  44,  93,  49, 109, 130,  10,  86, 109,\n",
            "         56, 127,   4,  74,  10,  46,  28,  42,  96, 110,  49, 109, 110,  89,\n",
            "         10, 109,   4,  93,  92, 109,  49, 110,  74,  33,  45, 115,  44, 109,\n",
            "        110,  75,  93,  92,  49, 100, 109, 112, 110,  49, 110,  67,  67,  73,\n",
            "        109,  56, 117, 110,  89,  49, 130, 110, 115,  46,  28,  30, 109,  19,\n",
            "         96,  10,  19,  33,  10,  38, 109,  93, 115, 109,  49,  96,  10, 109,\n",
            "         30, 115,  49,  10,  89, 115,  10,  49, 100, 109, 127,   4,   4,   4,\n",
            "         74,  10, 100, 109, 110, 115,  38])\n"
          ],
          "name": "stdout"
        }
      ]
    },
    {
      "metadata": {
        "id": "iRGiIhu0ZiSJ",
        "colab_type": "code",
        "colab": {}
      },
      "cell_type": "code",
      "source": [
        "def random_training_set(chunk_len=1000):    \n",
        "    chunk = random_chunk(chunk_len)\n",
        "    inp = text_to_tensor(chunk[:-1])   # omit the last token\n",
        "    target = text_to_tensor(chunk[1:]) # omit the first token\n",
        "    return inp, target"
      ],
      "execution_count": 0,
      "outputs": []
    },
    {
      "metadata": {
        "id": "ykYEtQd8ZiSM",
        "colab_type": "code",
        "colab": {}
      },
      "cell_type": "code",
      "source": [
        "class Cartmanboi(nn.Module):\n",
        "    def __init__(self, vocab_size, hidden_size, n_layers=1):\n",
        "        super(Cartmanboi, self).__init__()\n",
        "        # RNN attributes\n",
        "        self.vocab_size = vocab_size\n",
        "        self.hidden_size = hidden_size\n",
        "        self.n_layers = n_layers\n",
        "        # identiy matrix for generating one-hot vectors\n",
        "        self.ident = torch.eye(vocab_size)\n",
        "        # recurrent neural network\n",
        "        self.rnn = nn.GRU(vocab_size, hidden_size, n_layers, batch_first=True)\n",
        "        # a fully-connect layer that decodes the RNN output to\n",
        "        # a distribution over the vocabulary\n",
        "        self.decoder = nn.Linear(hidden_size, vocab_size)\n",
        "    \n",
        "    def forward(self, inp, hidden):\n",
        "        # reshape the input tensor to [1, seq_length]\n",
        "        inp = inp.view(1, -1)\n",
        "        # generate one-hot vectors from token indices\n",
        "        inp = self.ident[inp]\n",
        "        # obtain the next output and hidden state\n",
        "        output, hidden = self.rnn(inp, hidden)\n",
        "        output = self.decoder(output.squeeze(0))\n",
        "        return output, hidden\n",
        "\n",
        "    def init_hidden(self):\n",
        "        return torch.zeros(self.n_layers, 1, self.hidden_size)"
      ],
      "execution_count": 0,
      "outputs": []
    },
    {
      "metadata": {
        "id": "h1S6TCBoZiSP",
        "colab_type": "code",
        "colab": {}
      },
      "cell_type": "code",
      "source": [
        "def evaluate(model, prime_str='I', predict_len=300, temperature=0.8):\n",
        "    hidden = model.init_hidden()\n",
        "    prime_input = text_to_tensor(prime_str)\n",
        "    predicted = prime_str\n",
        "    \n",
        "    # Use priming string to \"build up\" hidden state\n",
        "    for p in range(len(prime_str) - 1):\n",
        "        _, hidden = model(prime_input[p], hidden)\n",
        "    inp = prime_input[-1]\n",
        "    \n",
        "    for p in range(predict_len):\n",
        "        output, hidden = model(inp, hidden)\n",
        "        \n",
        "        # Sample from the network as a multinomial distribution\n",
        "        output_dist = output.data.view(-1).div(temperature).exp()\n",
        "        top_i = int(torch.multinomial(output_dist, 1)[0])\n",
        "        # Add predicted character to string and use as next input\n",
        "        predicted_char = vocab_itos[top_i]\n",
        "        predicted += predicted_char\n",
        "        inp = text_to_tensor(predicted_char)\n",
        "\n",
        "    return predicted\n",
        "\n",
        "def train(model, num_iters=2000, lr=0.004):\n",
        "    optimizer = torch.optim.Adam(model.parameters(), lr=lr)\n",
        "    criterion = nn.CrossEntropyLoss()\n",
        "    for it in range(num_iters):\n",
        "        # get training set\n",
        "        inp, target = random_training_set()\n",
        "        # cleanup\n",
        "        optimizer.zero_grad()\n",
        "        # forward pass\n",
        "        hidden = model.init_hidden()\n",
        "        output, _ = model(inp, hidden)\n",
        "        loss = criterion(output, target)\n",
        "        # backward pass\n",
        "        loss.backward()\n",
        "        optimizer.step()\n",
        "\n",
        "        if it % 200 == 199:\n",
        "          print(\"[Iter %d] Loss %f\" % (it+1, float(loss)))\n",
        "          print(\"    \" + evaluate(model, ' ', 300))\n"
      ],
      "execution_count": 0,
      "outputs": []
    },
    {
      "metadata": {
        "id": "8l1E3WOEjWt5",
        "colab_type": "code",
        "colab": {
          "base_uri": "https://localhost:8080/",
          "height": 836
        },
        "outputId": "eaef5ae6-ca84-4f3a-a414-61ba8dc0634b"
      },
      "cell_type": "code",
      "source": [
        "model = Cartmanboi(len(vocab),256,2)\n",
        "train(model, num_iters=2000,lr=0.004)"
      ],
      "execution_count": 45,
      "outputs": [
        {
          "output_type": "stream",
          "text": [
            "[Iter 200] Loss 2.194304\n",
            "     hiy an gols suy bige you wan the tout I's redid, ut inos its, tou'd is gou dout're tise node to  Gatte tou on dian is tave merte he ke mome just be beon'w attid ing! \n",
            "Man:\tOh way! \n",
            "Kangn:\tI't wis, no gorarim wat, in the,  at Lad you it weot ke:\tDow beed le sap sit stor met, wit's of whack mere angis\n",
            "[Iter 400] Loss 1.888162\n",
            "     the gorkn for dayd Emat to I nevince Cartmana:\tMare!  \n",
            "Butter:\tHow. Elle, Chring tual and home huve to kilk on to bet far watte to go cuvene pallist me hive bever the nees on aver cantery for it's kith can to spreatigro junte'll rightive cally parteve thin't man rong ulay fell the beat certmallyof m\n",
            "[Iter 600] Loss 2.039475\n",
            "     I ciple the clamp and theres a wish werin's a nay snuther shad at and me they ale not mand an and youh and stever mund there monet regry how. \n",
            "Butters:\tNo, where the ging they bo mike aptries gotpbackey a like that not have the poenther durn stars five the sarmang suppial they're and fuckar fat to m\n",
            "[Iter 800] Loss 1.830168\n",
            "     . I've can to know like somp okey in the was.  \n",
            "Mildy:\tWell all bee we be it rellery about do dodd was batit going not but he stive. \n",
            "Strad:\tYou like florbambides be be be to prike my neaw you babtesped will but shin. \n",
            "Mrrieckeyon:\tHey, Menvery, know thy don't rew! \n",
            "Jesub:\tIt's decplock is gonny pre\n",
            "[Iter 1000] Loss 1.813095\n",
            "     shousnet and like you back cound like and you man make is us stand by stugss! \n",
            "Ginne:\tI'm know the nan to was a ging!  \n",
            "Token:\tI don't want from anm that to be wey bean the bean stuping man untsest can pleatiing it are bastans facture what what the stauntan it? \n",
            "Stan:\tIt's think there us.  \n",
            "Stan:\tYe\n",
            "[Iter 1200] Loss 1.835020\n",
            "     have to do is the even has it of good up, and they are an meant of is want aather us pranter to did the Mephe praoning to all a paegh. \n",
            "Stan:\tI keep love do that theave Mistary chisue he beeahh stoll or a spott in ofrety danser.  \n",
            "Stan:\tHe childed they sun deave wiend gight and don't have to deast m\n",
            "[Iter 1400] Loss 1.498013\n",
            "     all A Ramolouth is to know chaicince! \n",
            "Cartman:\tCome Commine Chin26.) \n",
            "Stan:\tWhat are look, ghe seow many kids?  \n",
            "Stan:\tSee you comentlement heres a chooks the dol anyer? \n",
            "Cartman:\tHey everyone a can a fork based, and you doing out of cominion, steaker. \n",
            "Stan:\tThe good on is the Hupss my somey on my\n",
            "[Iter 1600] Loss 1.527828\n",
            "     it don't alreary for a litter then the can fight with might? \n",
            "Kyle:\tNo, I seavin' little in sention taking be your getum? \n",
            "Randy:\tBuht is sime the says to takes and Stan, any seart. \n",
            "Kyle:\tOkay, whoana do onre you call probe. \n",
            "Piebo:\tThey not gooding out would as something of room, I wouldron't go a\n",
            "[Iter 1800] Loss 1.973164\n",
            "     we could milly been he shive to sinnerentratinal a patin', I leanned have in time your and pater! \n",
            "Carkead, God Garrisop Stan:\tDoion are you sex that your back in supposian and there be our can!! Butters. And a nix, Butters you movin mincly deat, the sade but a for class. It's with understand in abo\n",
            "[Iter 2000] Loss 1.670302\n",
            "      \n",
            "Cartman:\tYech a studing to sidn on too and does gonna can understant happen for me!  \n",
            "Kyle:\tOkay! How can't shat me of the Coan does to all the Butters.  OR your your is so Goo being be thing been days hold in the Condic. \n",
            "Rindy:\tThank mun the hell stupid it to stuck parted sount thing we've gonny\n"
          ],
          "name": "stdout"
        }
      ]
    },
    {
      "metadata": {
        "id": "xo3DKHqnZKmd",
        "colab_type": "code",
        "colab": {
          "base_uri": "https://localhost:8080/",
          "height": 1533
        },
        "outputId": "0e778546-bb64-4ea6-b172-bdecee069b88"
      },
      "cell_type": "code",
      "source": [
        "train(model, num_iters=3000,lr=0.004)"
      ],
      "execution_count": 46,
      "outputs": [
        {
          "output_type": "stream",
          "text": [
            "[Iter 200] Loss 1.579565\n",
            "     stucking all be comice that me! \n",
            "Stan:\tWell you love you could play on there bragett who handy me feel call back to thif ling muse good better mean! \n",
            "Dr. Terrince:\tFutter missive a cal doing cholatus. \n",
            "Terrancon:\tOh mying you will a boytel. \n",
            "Cartman:\tDoes that my one starrit? me to lest on the dils \n",
            "[Iter 400] Loss 1.905129\n",
            "     pyoppore!åÊ \n",
            "Guy:\tWhat from the right of us ack. I don if you sume years of you.  \n",
            "Butters:\tCartman it.  \n",
            "Randy:\tWhooo about a deel Chaigh it.  A sweet years? \n",
            "Kyle:\tUh, what can she doing everyone for your Dindror Randy life it? \n",
            "Cartman:\tBut you can free think and I supet a big and like the sure, \n",
            "[Iter 600] Loss 1.893726\n",
            "     for the Indignaffay right well, but why deset! \n",
            "Cartman:\tI got the needer for answer muney!  He's cots cool, I ass me. \n",
            "Cartman:\tOh my God!åÊåÊIt is of comnamen at me to thinkien in the frog ser who's like of my fise's who was out of tran. \n",
            "Cartman:\tYou got sure Kyle lame. A will master and ever onl\n",
            "[Iter 800] Loss 1.458465\n",
            "      \n",
            "Saler:\tOkay, let's ug play. \n",
            "Cartman:\tSchool show show.  \n",
            "Sharon:\tWe did our porn up entare but older what you know why see! \n",
            "Walta:\tWe're all right. \n",
            "Kyle:\tCan I don't know it! \n",
            "Jakata 2:\tYeah. This is and the skill you bee Hearking concert close! I can sell you think and all the win. \n",
            "Cattan:\tSo\n",
            "[Iter 1000] Loss 1.397206\n",
            "     there all right. \n",
            "Wokan:\tI need loves everyone, because I sket yeah, the been talking on the Noly Prince, off. \n",
            "Stan:\tWhat? do you been wants founded buy and reased and now. Do you fuck me everybody back, here what? \n",
            "Cartman:\tYeah. That's me hears! \n",
            "Jimbo:\tHey, Lirst Eeening. They're good and not gi\n",
            "[Iter 1200] Loss 1.599914\n",
            "     realth hold in the today!  \n",
            "Cartman:\tEagh.  then you've place big in and like the Bools in on our panding more up Darricket and I know who think If bed that even just don't believe to take it.  Yeah, fuck out of is be the offivert. \n",
            "Lindator:\tThe living and the hope for the toing lives Jewn your hop\n",
            "[Iter 1400] Loss 1.410097\n",
            "     for you to have me. We'll sive you be time. And the old balls, you case I can are you a front on this is off. \n",
            "Stan:\tGuys? Tomorrows in, still you to get you. \n",
            "Stan:\tOh, My raise you do it! We gotta be your dance. \n",
            "Stan:\tThanks to part and there told you to the morn deporter, shot, no piny! \n",
            "Stan:\tT\n",
            "[Iter 1600] Loss 1.789809\n",
            "     you want temet this sleeve trich this the country. Don't we crub a big them your more something? .s so there it's connan with a fetus! \n",
            "Stan:\tWhat? \n",
            "Stan:\tOh, we have to stop the missed ming disenders! \n",
            "Randy:\tHuh? I think I'll gee to you. \n",
            "Kyle:\tBut card madors of sweeter. The dear Teacer? \n",
            "Shellar\n",
            "[Iter 1800] Loss 1.462235\n",
            "     that the book and going to me! \n",
            "Blade Webded:\tHey! But Kyle! Don't be excuse now scienty, nother in needs. \n",
            "Squirrelder 1:\tYes! And un-why with the about lover and all you been children, that's not real more in baggs! \n",
            "Stan:\tMore ass! \n",
            "Stan:\tStan! \n",
            "Kyle?\tOh, where is the runnasts! \n",
            "Sharon:\tAwww, the\n",
            "[Iter 2000] Loss 1.398500\n",
            "     aganger, away? \n",
            "Cartman:\tShe say like guys! \n",
            "Cartman:\tWell! \n",
            "Cartman:\tSo this isn't going to daught I was me?! \n",
            "Mrs. Karkma:\tNo.  \n",
            "Cartman:\tSo what didn't see? \n",
            "Stan:\tBut we get home. \n",
            "Cartman:\tShuh ...Reefle fragion me! The Cartman Oles Stan. Christrow. \n",
            "Cartman:\tUh, sicky me go does it's gonna in \n",
            "[Iter 2200] Loss 1.605298\n",
            "     and that that you got nor so here, but it is something to make us now, get a lot crap! Shat now!  \n",
            "Stan:\tWe have no partybe will be the way funning with an toousch is on right now the loving and isn't eat right on line and mom on on incidately in the cancerte there has his rebathan, the school has t\n",
            "[Iter 2400] Loss 1.563770\n",
            "     me about I wait with down to finally white beat that calemants stamp is been one vila to be a beat again the singuare final have to be been to be... \n",
            "Mr. Streisz:\tNothing, well is to get to I calefine. Bew. May we got the video is gone to cents to stop die it to our firater to the Country. \n",
            "Cartman:\n",
            "[Iter 2600] Loss 1.444941\n",
            "     good at that you must belows into that. \n",
            "Cartman:\tI'm everyone. Kenny for the she would look being to you. Blood!  Siens. We think this cimines uffice in y- \n",
            "Cartman:\tI just think you'll a better and us Marty's fine.  You hell as all the hungress, and the enine kids. You've been thinks now!  M-Okay.\n",
            "[Iter 2800] Loss 1.281004\n",
            "     the shoots that's not started interesting right naventing paper for the laplin' to the money better of his impervies friends! The people see the people to see that all the classes a gotta do in the personpres life dark about your set like the winnered thousand provainet has show him and the pigger. \n",
            "[Iter 3000] Loss 1.474919\n",
            "     meant! \n",
            "Gerald:\tYou browd what her perowa?! \n",
            "Elderly:\tYeah! \n",
            "Cartman:\tHow we were ready!  Oh, kid! Get a complete anywained the campance in farlugg and the poor are from more manager. Tomorron. Let's lost one of getting here! All the stupidest all of me home.  \n",
            "Butters:\tYeah!  \n",
            "Stan:\tOkay, we got ro\n"
          ],
          "name": "stdout"
        }
      ]
    },
    {
      "metadata": {
        "id": "rk7RU9xrxOWO",
        "colab_type": "code",
        "colab": {
          "base_uri": "https://localhost:8080/",
          "height": 119
        },
        "outputId": "ad6ce99e-444b-4714-c9cf-9de2c1b05fa8"
      },
      "cell_type": "code",
      "source": [
        "a=evaluate(model, prime_str='Cartman:', predict_len=300, temperature=0.8)\n",
        "print(a)"
      ],
      "execution_count": 112,
      "outputs": [
        {
          "output_type": "stream",
          "text": [
            "Cartman:\tYeah! You prodelam's parents ore was can say too about the streets. \n",
            "Butters:\tHelp gentlemen! Greets!  Oh, Mar, you guy? \n",
            "Dr Exeger Hindsod Bom frog feels just aren't Momacher!  \n",
            "Cartman:\tHelp me a job.  \n",
            "Cartman:\tDam, you really fuck a courthous to me, can't be week so we go watch me, real here! \n",
            "\n"
          ],
          "name": "stdout"
        }
      ]
    },
    {
      "metadata": {
        "id": "DRU_v-26xTQu",
        "colab_type": "code",
        "colab": {
          "base_uri": "https://localhost:8080/",
          "height": 2825
        },
        "outputId": "e5d04f16-750a-4d74-d2f7-abcddaa08cb5"
      },
      "cell_type": "code",
      "source": [
        "train(model, num_iters=5000,lr=0.004)"
      ],
      "execution_count": 113,
      "outputs": [
        {
          "output_type": "stream",
          "text": [
            "[Iter 200] Loss 1.325661\n",
            "     like to your frick man... that we weld not anybody think. \n",
            "Scouts:\tYeah, too.  \n",
            "Cartman:\tBear Kenny of you know what the time play stupid unterman with the XBody Damning human to the time tine my should be gonna stupid us. \n",
            "Cartman:\tThat's it of son. \n",
            "Jesus:\tMaybe it's a fat. \n",
            "Leave God:\tWe, uh, dud\n",
            "[Iter 400] Loss 1.087876\n",
            "     the batts we can do that us farmach! Now can try it. \n",
            "Representy:\tLook trouther Broflovski, sick and just down to me.  \n",
            "Cartman:\tI agn already be money! That me away Aiden. We just just true, who's there! \n",
            "Cartman:\tJust startly sent time! \n",
            "Cartman:\tOh, you guys! The Fight is tired to get to at the g\n",
            "[Iter 600] Loss 1.357392\n",
            "     idea. \n",
            "Cartman:\tWell, there's compleantly, Fills. You're those dollars. \n",
            "Stan:\tPlan, but I don't know what it's a many some. Somebody are gonna have to stant a kays it's a chickler is gonna get me?! \n",
            "Cartman:\tSzaul. \n",
            "Butters:\tHave it was this lister gay with I againit to an and Phillip is can feel b\n",
            "[Iter 800] Loss 1.445132\n",
            "     about the basing compane secriies lilling. \n",
            "Cartman:\tJimmy show, and girlally please over seems some! \n",
            "Astrole 1:\tYeah, and there with a gage daughtent right. \n",
            "Randy:\tThat's the real cream of a guie. \n",
            "Mrs. Mackey:\tWha, eme, get out! \n",
            "Richard:\tJust. Stan, we just got to get serious!  \n",
            "Randy:\tHow much\n",
            "[Iter 1000] Loss 1.380612\n",
            "     you both. \n",
            "Cartman:\tHey, maybe right the gas before. \n",
            "Kyle:\tStan, so!  \n",
            "Shelly:\tGet out of the snakes. \n",
            "Timmy:\tTimmy. \n",
            "Chef:\tAlright, so wanna give me to the door. \n",
            "Kyle:\tFreeght. \n",
            "Cartman:\tDon't you do! I'm sorry! \n",
            "Tom Bucter:\tWell, it was sure our princest for our dammodical present the passent pi\n",
            "[Iter 1200] Loss 1.534729\n",
            "     the make a please of years party! \n",
            "Stan:\tYes, there's no aing.  \n",
            "Kyle:\tDude.  Calito supposed ten for one of the emomin Amerectore of the fyss to give the deatoms? Whea stee seems me broke to plosige a lot of thomesands! \n",
            "Randy:\tOh stin!  \n",
            "Cartman:\tDad, that was a minute. \n",
            "Cartman:\tYeah. \n",
            "Gerald:\tBu\n",
            "[Iter 1400] Loss 1.393616\n",
            "     boys can stay the raddred done, that'd beg! \n",
            "Kyle:\tNo! Wha-dy befter dumb ho munt smilt down? \n",
            "Kyle:\tI'm sorry.  \n",
            "Cartman:\tDammit! \n",
            "Cartman:\tThank you, rocted there, and then you're right.  \n",
            "Cartman:\tKyle, we're going to talk. \n",
            "Cartman:\tMimsy. Yes, I couldn't get out out there. \n",
            "CIrnet:\tBay alright!\n",
            "[Iter 1600] Loss 1.269433\n",
            "     the sink pretty plan in a minalor! \n",
            "Stan:\tI'm not off oblive it was what it \"pain' AF! Are you think that who have this?! \n",
            "Principal Victoria:\tIt's right. I can just make anymore. \n",
            "Cartman:\tThe movie. \n",
            "Mr. Yankey:\tAwcour. \n",
            "Jimmy:\tNo, Kyle Great Bog discishing is intoletion with Aunt Rookience a cabu\n",
            "[Iter 1800] Loss 1.615545\n",
            "     that she's a little ban assed at Breaster likeration is ourship chear.  Come bater has to do new catelie.  Hey he the anway! \n",
            "Ike:\tYou say there happy about this warmer and he want. \n",
            "Man I:\tOkay, but it isn't being a bugrrect.  \n",
            "Phellinist:\tYou have to see?  \n",
            "Randy:\tNatiler President, Chago! \n",
            "Randy:\n",
            "[Iter 2000] Loss 1.565474\n",
            "     have around! \n",
            "Stan:\tCanyot NASPAD! \n",
            "Mayor Men:\tHow many he had a little gay for? \n",
            "Cartman:\tHow do you see you a bread for when it teah?  \n",
            "Kyle:\tWho uptionf? \n",
            "President:\tYeah.  \n",
            "Cartman:\tYou know what you belle to take the heart crocping. \n",
            "Aboot:\tThat's in finally a points, \"away\" this has we pritate\n",
            "[Iter 2200] Loss 1.638553\n",
            "     on me tanch! \n",
            "Announcer:\tYou in the court the molking in your ranises.  \n",
            "Cartman:\tHey, they play back! \n",
            "Mr. Mackey:\tAll right they can't be alling in the new Costaulation. \n",
            "Let Chol:\tOh so I don't know is the movie and really totally country stop us to the some affoyant and tell the now almokent is!\n",
            "[Iter 2400] Loss 1.249749\n",
            "     and draggelt sententing and hand were sodoware. \n",
            "Stan:\tCome on, her eat! \n",
            "Cartman:\tWho- She did you understand those conorant to yourse is inestie song arounds to drive it! Then I just doint Stan and Please son You'll support money! \n",
            "Stan:\tI can't get the treez!  \n",
            "Cartman:\tAnd or him, where they wer\n",
            "[Iter 2600] Loss 1.377808\n",
            "     of how friend, how show busin students to bomber online?  Are their stupid corfusic? \n",
            "Cartman:\tShe can get the canced is being our balls, and anyone lesson of them. Do I char the most time secure. That's what have you ever being this just choof ya. \n",
            "Shuris:\tAlright, must go down the amazitar and of \n",
            "[Iter 2800] Loss 1.405093\n",
            "     behind! \n",
            "Marrice:\tIt's not just all good funny at hard thing to this alien of the matcond. It's okay. This simes and changed, Mom... finally seems going to reach on saying this jay who now and eat that Dad. \n",
            "Marvin:\tAll right. You gottick that they know the need fach that 'cause you have to catch th\n",
            "[Iter 3000] Loss 1.324062\n",
            "     you win!  They've pay assemen up on a more about nasing with us!  \n",
            "Stan:\tQuiels, what do we see? \n",
            "Stan:\tI think of companige! \n",
            "Stan:\tYeah, we is so way. \n",
            "Kyle:\tThat's got to a suppose. \n",
            "Stan:\tYou're just something in her cars arant to a down. \n",
            "Cartman:\tOh yeah-Os win! \n",
            "Stan:\tYou're another cats are \n",
            "[Iter 3200] Loss 1.190652\n",
            "     I thought you know, he don't help boys.  \n",
            "Nerser Bradly:\tYeah. You know, school was beand of the Redery location and operal the same for the abortion as the Lords are back. \n",
            "Mr. Mackey:\tAnd so sneak lia, what can I talk to you? \n",
            "Richard Anne Boy:\tYou son and be for this one-show in the parents are t\n",
            "[Iter 3400] Loss 1.440423\n",
            "     the fucking problem. \n",
            "Liane:\tWe can't go. \n",
            "Randy:\tShe's for the halfrangs! \n",
            "Mr. Garrison:\tMoh, but now, and I've stupid to be order so agryending my done.  The choof is on the first ass!  \n",
            "Stan:\tYou know, here you come gonna him to the on the cream now. \n",
            "Man 1:\tYeah. She was for a really good from t\n",
            "[Iter 3600] Loss 1.361765\n",
            "     office for what you saved me, Sharom!  \n",
            "Mayor McDorparim:\tYeah, but I up. \n",
            "Michael Pot Man:\tNO that, Forrap Country grandpa, did you start? \n",
            "Mr. Garrison:\tWhy do you mean? I found no! \n",
            "Ohrlin:\tThere is looking your butt is Mexicance! It made that friend Mr. Miss of into eyes are we're on out. Thanks\n",
            "[Iter 3800] Loss 1.373740\n",
            "     much boy, many again seak about the credes sur, the director in the touch life.  \n",
            "Stomper:\tAlright, nooo!  \n",
            "Stephen:\tHey, what the hell is you square, aren't, they show our matter to that? \n",
            "Kyle:\tJust go where by understands seetors boy for about him! \n",
            "Stan:\tBut there's applese, Kyle! \n",
            "Stan:\tSyard, \n",
            "[Iter 4000] Loss 1.358968\n",
            "     there.  \n",
            "Wendy:\tOh no, I think about to the statice of the boas princess me and not a turd a listening with what I just the musically people of his faces is all the United to put you change. I don't want it that contrus some of the times to play to a some poser bash neemen new town seeing and up rap\n",
            "[Iter 4200] Loss 1.199876\n",
            "     like I work tulp Towall put home, you believe pick that poops to do is the race and the immere in a pound in the died. They can't help excuse me two hole of Raginch!  \n",
            "Peter 1:\tThey're nothing! It's nice playing is him man mall most chinging a love hands to big the toilet. \n",
            "Man Look:\tThere we know y\n",
            "[Iter 4400] Loss 1.423995\n",
            "     into really work. \n",
            "Stan:\tWhy? \n",
            "Stan:\tDad. \n",
            "Randy:\tOh my God! It's so kid, what the head I does the fith that room too. What do you tell you my lady?\" \n",
            "Stan:\tWe'll have turned as scan down more. \n",
            "Stan:\tReally? \n",
            "Mr. Mackey:\tMommy up to hell, we'll never be our and choice remember, police!  Ah oh. \n",
            "Car\n",
            "[Iter 4600] Loss 1.345053\n",
            "     Stan and picked my roon, and then a jokes to do that at the crap into a crup call my taking pressically came him our hending a little boys, Craig! \n",
            "Jarpladis:\tHow what do you have any she what? \n",
            "Chief counsen tuarn 1:\tSometiges, she can be it can be a jam in the Lord! \n",
            "Kyle:\tOh God! \n",
            "Stan:\tYeah!  \n",
            "G\n",
            "[Iter 4800] Loss 1.390444\n",
            "     all my ass now. \n",
            "Moman:\tWhat? \n",
            "Kyle:\tOh my God! \n",
            "Linda:\tTom. \n",
            "Stan:\t...Wow, finally one jugt of a little streisives of Powers that sure. \n",
            "Kyle:\tOh yarright, but, you're doing a Ick it!  \n",
            "Stan:\t'Gong and the right with the more can new man will talk to the buss the street \"What serious sure it stward\n",
            "[Iter 5000] Loss 1.459511\n",
            "     they as the time to know what you've worked a sixter for the time work. The \"The Laptlant Aminauraly Turnist And the swell of something and and nothing somebody's could try to staying our has some fabs Terrance and Pate that can't other story who this are to do the boys Tom, it's Dr. Adrick doesn't \n"
          ],
          "name": "stdout"
        }
      ]
    },
    {
      "metadata": {
        "id": "MuHthHTPeCVv",
        "colab_type": "code",
        "colab": {
          "base_uri": "https://localhost:8080/",
          "height": 88
        },
        "outputId": "20375601-dcbd-4aa4-9562-04048db9e6d0"
      },
      "cell_type": "code",
      "source": [
        "a=evaluate(model, prime_str='Kyle:', predict_len=300, temperature=0.8)\n",
        "print(a)"
      ],
      "execution_count": 136,
      "outputs": [
        {
          "output_type": "stream",
          "text": [
            "Kyle:\tWell, I know, Wendy is the clud always sent to be a mountain around to go spend next to anything last that don't make a soon of along for that so much.  \n",
            "Member 2:\tWell you guys care on your uncleta I'm not a boy is cool. The way turn for a whole how doesn't happer out.  \n",
            "Cartman:\tWhat are you doin\n"
          ],
          "name": "stdout"
        }
      ]
    }
  ]
}