{
  "nbformat": 4,
  "nbformat_minor": 0,
  "metadata": {
    "colab": {
      "name": "BatchedModel_results.ipynb",
      "version": "0.3.2",
      "provenance": [],
      "collapsed_sections": [],
      "include_colab_link": true
    },
    "kernelspec": {
      "name": "python3",
      "display_name": "Python 3"
    },
    "accelerator": "GPU"
  },
  "cells": [
    {
      "cell_type": "markdown",
      "metadata": {
        "id": "view-in-github",
        "colab_type": "text"
      },
      "source": [
        "<a href=\"https://colab.research.google.com/github/litongzheng/APS360Project/blob/master/best%20model%2050%20epochs.ipynb\" target=\"_parent\"><img src=\"https://colab.research.google.com/assets/colab-badge.svg\" alt=\"Open In Colab\"/></a>"
      ]
    },
    {
      "metadata": {
        "id": "N6CAeamExFSu",
        "colab_type": "code",
        "colab": {}
      },
      "cell_type": "code",
      "source": [
        "import pandas as pd\n",
        "import numpy as np\n",
        "import csv\n",
        "import torch\n",
        "import torch.nn as nn\n",
        "import torch.nn.functional as F\n",
        "import torch.optim as optim\n",
        "import torchtext\n",
        "import numpy as np\n",
        "import matplotlib.pyplot as plt\n",
        "from torch.utils.data import TensorDataset, DataLoader"
      ],
      "execution_count": 0,
      "outputs": []
    },
    {
      "metadata": {
        "id": "_n5ytrzMgdKT",
        "colab_type": "code",
        "outputId": "50a26805-b5fb-4ff7-8ec9-3682e9384a46",
        "colab": {
          "base_uri": "https://localhost:8080/",
          "height": 34
        }
      },
      "cell_type": "code",
      "source": [
        "torch.__version__"
      ],
      "execution_count": 0,
      "outputs": [
        {
          "output_type": "execute_result",
          "data": {
            "text/plain": [
              "'1.0.1.post2'"
            ]
          },
          "metadata": {
            "tags": []
          },
          "execution_count": 3
        }
      ]
    },
    {
      "metadata": {
        "id": "gW49fwzpxUWF",
        "colab_type": "code",
        "outputId": "ecf556fc-74e9-4e7b-8f46-d048f3fef28e",
        "colab": {
          "resources": {
            "http://localhost:8080/nbextensions/google.colab/files.js": {
              "data": "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",
              "ok": true,
              "headers": [
                [
                  "content-type",
                  "application/javascript"
                ]
              ],
              "status": 200,
              "status_text": ""
            }
          },
          "base_uri": "https://localhost:8080/",
          "height": 37
        }
      },
      "cell_type": "code",
      "source": [
        "from google.colab import files\n",
        "uploaded = files.upload()"
      ],
      "execution_count": 0,
      "outputs": [
        {
          "output_type": "display_data",
          "data": {
            "text/html": [
              "\n",
              "     <input type=\"file\" id=\"files-8e991fda-6491-4dec-a7a1-9f9dcd341015\" name=\"files[]\" multiple disabled />\n",
              "     <output id=\"result-8e991fda-6491-4dec-a7a1-9f9dcd341015\">\n",
              "      Upload widget is only available when the cell has been executed in the\n",
              "      current browser session. Please rerun this cell to enable.\n",
              "      </output>\n",
              "      <script src=\"/nbextensions/google.colab/files.js\"></script> "
            ],
            "text/plain": [
              "<IPython.core.display.HTML object>"
            ]
          },
          "metadata": {
            "tags": []
          }
        }
      ]
    },
    {
      "metadata": {
        "id": "VN6vbgcLxUlM",
        "colab_type": "code",
        "outputId": "3f30ca2c-800a-455d-fc66-e4af2c4c0578",
        "colab": {
          "resources": {
            "http://localhost:8080/nbextensions/google.colab/files.js": {
              "data": "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",
              "ok": true,
              "headers": [
                [
                  "content-type",
                  "application/javascript"
                ]
              ],
              "status": 200,
              "status_text": ""
            }
          },
          "base_uri": "https://localhost:8080/",
          "height": 37
        }
      },
      "cell_type": "code",
      "source": [
        "from google.colab import files\n",
        "uploaded = files.upload()"
      ],
      "execution_count": 0,
      "outputs": [
        {
          "output_type": "display_data",
          "data": {
            "text/html": [
              "\n",
              "     <input type=\"file\" id=\"files-14009337-dadc-4a0d-968c-bbca9598eaf0\" name=\"files[]\" multiple disabled />\n",
              "     <output id=\"result-14009337-dadc-4a0d-968c-bbca9598eaf0\">\n",
              "      Upload widget is only available when the cell has been executed in the\n",
              "      current browser session. Please rerun this cell to enable.\n",
              "      </output>\n",
              "      <script src=\"/nbextensions/google.colab/files.js\"></script> "
            ],
            "text/plain": [
              "<IPython.core.display.HTML object>"
            ]
          },
          "metadata": {
            "tags": []
          }
        }
      ]
    },
    {
      "metadata": {
        "id": "YeCLrBV9cZ0z",
        "colab_type": "code",
        "outputId": "e3e9cb11-9771-4ca5-abec-1385d3ceccce",
        "colab": {
          "base_uri": "https://localhost:8080/",
          "height": 122
        }
      },
      "cell_type": "code",
      "source": [
        "from google.colab import drive\n",
        "drive.mount('/content/drive')"
      ],
      "execution_count": 2,
      "outputs": [
        {
          "output_type": "stream",
          "text": [
            "Go to this URL in a browser: https://accounts.google.com/o/oauth2/auth?client_id=947318989803-6bn6qk8qdgf4n4g3pfee6491hc0brc4i.apps.googleusercontent.com&redirect_uri=urn%3Aietf%3Awg%3Aoauth%3A2.0%3Aoob&scope=email%20https%3A%2F%2Fwww.googleapis.com%2Fauth%2Fdocs.test%20https%3A%2F%2Fwww.googleapis.com%2Fauth%2Fdrive%20https%3A%2F%2Fwww.googleapis.com%2Fauth%2Fdrive.photos.readonly%20https%3A%2F%2Fwww.googleapis.com%2Fauth%2Fpeopleapi.readonly&response_type=code\n",
            "\n",
            "Enter your authorization code:\n",
            "··········\n",
            "Mounted at /content/drive\n"
          ],
          "name": "stdout"
        }
      ]
    },
    {
      "metadata": {
        "id": "9Q_Gu3rMxQhv",
        "colab_type": "code",
        "outputId": "f5df4d74-d37a-4d75-c327-e2df6495b08f",
        "colab": {
          "base_uri": "https://localhost:8080/",
          "height": 71
        }
      },
      "cell_type": "code",
      "source": [
        "sp_text = \"\"\n",
        "\n",
        "chars = []\n",
        "i = 0\n",
        "for char in open('/content/drive/My Drive/Colab Notebooks/character.txt'):\n",
        "    chars.append(char.strip() + \":\\t\")\n",
        "    if i>=4000:\n",
        "        break\n",
        "    i = i+1\n",
        "lines = [] \n",
        "\n",
        "i = 0\n",
        "for line in open('/content/drive/My Drive/Colab Notebooks/Line.txt', encoding='ISO-8859-1' ):\n",
        "        lines.append(line)\n",
        "        if i>=4000:\n",
        "            break\n",
        "        i = i+1\n",
        "        \n",
        "for i in range(len(lines)):\n",
        "    total = chars[i] + lines[i]\n",
        "    sp_text += total\n",
        "    \n",
        "vocab = list(set(sp_text))\n",
        "vocab_stoi = {s: i for i, s in enumerate(vocab)}\n",
        "vocab_itos = {i: s for i, s in enumerate(vocab)}\n",
        "print(len(sp_text))\n",
        "print(vocab_stoi)"
      ],
      "execution_count": 3,
      "outputs": [
        {
          "output_type": "stream",
          "text": [
            "292275\n",
            "{'k': 0, 'D': 1, '8': 2, 'S': 3, 'F': 4, ':': 5, 'X': 6, 'Y': 7, ')': 8, '©': 9, '&': 10, 'h': 11, '?': 12, ',': 13, '%': 14, 'e': 15, '$': 16, '\"': 17, 'c': 18, 'd': 19, 'P': 20, ';': 21, 'w': 22, '6': 23, 'Ì': 24, 'B': 25, '1': 26, '9': 27, '¬': 28, 'Á': 29, '4': 30, 'W': 31, 'À': 32, 'n': 33, 'K': 34, '2': 35, '#': 36, 'r': 37, 'å': 38, '+': 39, 't': 40, 'I': 41, 'o': 42, 'l': 43, 's': 44, 'x': 45, 'u': 46, '0': 47, 'z': 48, 'R': 49, ' ': 50, 'm': 51, '(': 52, 'U': 53, 'q': 54, 'a': 55, '-': 56, '/': 57, '±': 58, 'f': 59, 'b': 60, 'H': 61, 'i': 62, '3': 63, 'C': 64, '\\ufeff': 65, '\\t': 66, 'y': 67, 'v': 68, 'J': 69, 'G': 70, 'A': 71, \"'\": 72, 'p': 73, 'N': 74, 'M': 75, 'V': 76, 'T': 77, 'L': 78, 'Q': 79, '.': 80, '5': 81, 'Z': 82, 'g': 83, '7': 84, '!': 85, 'j': 86, 'E': 87, '\\n': 88, 'O': 89}\n"
          ],
          "name": "stdout"
        }
      ]
    },
    {
      "metadata": {
        "id": "RS5XJWq0yaN2",
        "colab_type": "code",
        "colab": {}
      },
      "cell_type": "code",
      "source": [
        "import random\n",
        "random.seed(10)\n",
        "\n",
        "sp_len = len(sp_text) #get the length of the south park text \n",
        "\n",
        "def random_chunk(chunk_len=1000):\n",
        "    \"\"\"Return a random subsequence from `spam_text`\"\"\"\n",
        "    start_index = random.randint(0, sp_len - chunk_len)\n",
        "    end_index = start_index + chunk_len + 1\n",
        "    return sp_text[start_index:end_index] #gets a random chunk of size chunk len\n",
        "\n",
        "def text_to_numpy(text, vocab=vocab):  #\n",
        "    \"\"\"Return a tensor containing the indices of characters in `text`.\"\"\"\n",
        "    indices = [vocab_stoi[ch] for ch in text]\n",
        "    return np.asarray(indices)\n",
        "\n",
        "  \n",
        "example = text_to_numpy(random_chunk())\n",
        "# print(example)\n"
      ],
      "execution_count": 0,
      "outputs": []
    },
    {
      "metadata": {
        "id": "meld2hH3yGpp",
        "colab_type": "code",
        "outputId": "6a726048-7fc9-4eae-aba7-9ab92e6dcb1d",
        "colab": {
          "base_uri": "https://localhost:8080/",
          "height": 68
        }
      },
      "cell_type": "code",
      "source": [
        "## based on ideas from https://github.com/thomasxmeng/Project-tv-script-generation-RNN/blob/master/dlnd_tv_script_generation_7.ipynb\n",
        "\n",
        "def make_data_loader(sp_txt_np, inp_len, batch_size): \n",
        "    #create input target sequence pairs \n",
        "    length = len(sp_txt_np) #figure out how long the sp_text_np array is\n",
        "    \n",
        "    inp_list = []\n",
        "    target_list = []\n",
        "    start_ind = 0\n",
        "    end_ind = inp_len\n",
        "    tar_ind = inp_len\n",
        "    \n",
        "    #we want to return inputs and targets, where inputs are a vector array of sequence length \n",
        "    while (length-start_ind)> inp_len: #while we can still create a batch target pair \n",
        "      inp_list.append(sp_txt_np[start_ind:end_ind])\n",
        "      target_list.append(sp_txt_np[tar_ind])\n",
        "      \n",
        "      #shift everything by 1\n",
        "      start_ind +=1\n",
        "      end_ind +=1\n",
        "      tar_ind +=1\n",
        "      \n",
        "    #convert the inputs and targets into np arrays in order to convert them to torch tensors\n",
        "    inputs = np.asarray(inp_list)\n",
        "    targets = np.asarray(target_list)\n",
        "      \n",
        "    #create a data loader \n",
        "    data = TensorDataset(torch.from_numpy(inputs), torch.from_numpy(targets))\n",
        "    data_loader = torch.utils.data.DataLoader(data, shuffle=True, batch_size=batch_size) #shuffle and add batch size\n",
        "   \n",
        "  # return a dataloader\n",
        "    return data_loader\n",
        "  \n",
        "  \n",
        "loader = make_data_loader(text_to_numpy(sp_text),30,1)\n",
        "print(text_to_numpy(sp_text)[:4])\n",
        "for i,j in loader:\n",
        "    print(i.type())\n",
        "    print(i.shape,len(j))\n",
        "    break"
      ],
      "execution_count": 5,
      "outputs": [
        {
          "output_type": "stream",
          "text": [
            "[65  3 40 55]\n",
            "torch.LongTensor\n",
            "torch.Size([1, 30]) 1\n"
          ],
          "name": "stdout"
        }
      ]
    },
    {
      "metadata": {
        "id": "eAOfnvbgyQyx",
        "colab_type": "code",
        "colab": {}
      },
      "cell_type": "code",
      "source": [
        "class Cartmanboi(nn.Module):\n",
        "    def __init__(self, vocab_size, hidden_size, n_layers=1,dropout=0.2):\n",
        "        super(Cartmanboi, self).__init__()\n",
        "        # RNN attributes\n",
        "        self.name = \"c1\"\n",
        "        self.vocab_size = vocab_size\n",
        "        self.hidden_size = hidden_size\n",
        "        self.n_layers = n_layers\n",
        "        # identity matrix for generating one-hot vectors on the chars \n",
        "        self.ident = torch.eye(vocab_size)\n",
        "        # recurrent neural network\n",
        "        self.rnn = nn.GRU(vocab_size, hidden_size, n_layers, batch_first=True,dropout=dropout)\n",
        "        # a fully-connect layer that decodes the RNN output to\n",
        "        # a distribution over the vocabulary\n",
        "        self.decoder = nn.Linear(hidden_size, vocab_size)\n",
        "    \n",
        "    def forward(self, inp, hidden):\n",
        "        batch_size = inp.size(0) #figure out what the size of the input is \n",
        "        # generate one-hot vectors from token indices\n",
        "        inp = self.ident[inp].cuda()\n",
        "        # obtain the next output and hidden state\n",
        "        #print(inp.shape)\n",
        "        output, hidden = self.rnn(inp, hidden)\n",
        "        output = self.decoder(output.squeeze(0))\n",
        "        output = output.view(batch_size, -1, self.vocab_size)\n",
        "\n",
        "        output = output[:,-1] #take the last output \n",
        "        return output, hidden\n",
        "\n",
        "    def init_hidden(self,batch_size): #this returns a hidden size the same size as the batch size \n",
        "        return torch.zeros(self.n_layers, batch_size, self.hidden_size).cuda()"
      ],
      "execution_count": 0,
      "outputs": []
    },
    {
      "metadata": {
        "id": "PtqBX0ffb17_",
        "colab_type": "code",
        "colab": {}
      },
      "cell_type": "code",
      "source": [
        "def get_model_name(name, batch_size, learning_rate, epoch,hidden_size, layers,sq):\n",
        "    \"\"\" Generate a name for the model consisting of all the hyperparameter values\n",
        "\n",
        "    Args:\n",
        "        config: Configuration object containing the hyperparameters\n",
        "    Returns:\n",
        "        path: A string with the hyperparameter name and value concatenated\n",
        "    \"\"\"\n",
        "    model_name = 'model_{0}_bs{1}_lr{2}_epoch{3}_h{4}_l{5}_sq{6}'.format(name,\n",
        "                                                   batch_size,\n",
        "                                                   learning_rate,\n",
        "                                                   epoch,\n",
        "                                                   hidden_size, layers,sq)\n",
        "    path = F\"/content/drive/My Drive/Colab Notebooks/{model_name}\"\n",
        "    return path"
      ],
      "execution_count": 0,
      "outputs": []
    },
    {
      "metadata": {
        "id": "NvEn6FnNC-NK",
        "colab_type": "code",
        "colab": {}
      },
      "cell_type": "code",
      "source": [
        "device = torch.device('cuda:0')"
      ],
      "execution_count": 0,
      "outputs": []
    },
    {
      "metadata": {
        "id": "q0l-AforU5Ol",
        "colab_type": "text"
      },
      "cell_type": "markdown",
      "source": [
        "## **Training**"
      ]
    },
    {
      "metadata": {
        "id": "Cto0jEf8yS5q",
        "colab_type": "code",
        "colab": {}
      },
      "cell_type": "code",
      "source": [
        "def evaluate(model, prime_str='Kyle:', sq_length=30, predict_len=500, temperature=0.8):\n",
        "    hidden = model.init_hidden(1) #create a hidden layer the size of our prime string \n",
        "    prime_input = text_to_numpy(prime_str) #convert out prime string to a np array vector \n",
        "    \n",
        "    \n",
        "    #create a matrix the same size as our input batches \n",
        "    current_seq = np.full((1, sq_length), vocab_stoi[\" \"]) #create a vector to hold the predicted characters \n",
        "    \n",
        "    current_seq[-1][len(current_seq)-len(prime_input)-1:] = prime_input\n",
        "    predicted = prime_str #predicted holds the predicted sequence \n",
        "    current_seq = torch.from_numpy(current_seq)\n",
        "#     model.cuda()\n",
        "    for p in range(predict_len):  #for however many characters we want to predict \n",
        "        current_seq = torch.LongTensor(current_seq).cuda() #turn our current sequence into a long tensor \n",
        "        output, hidden = model(current_seq, hidden)\n",
        "#         print(hidden.shape)\n",
        "#         print(current_seq.shape)\n",
        "        \n",
        "        # Sample from the network as a multinomial distribution\n",
        "        output_dist = output.data.view(-1).div(temperature).exp()\n",
        "        top_i = int(torch.multinomial(output_dist, 1)[0])\n",
        "        # Add predicted character to string and use as next input\n",
        "        predicted_char = vocab_itos[top_i] #figure out what the predicted character is\n",
        "        predicted += predicted_char\n",
        "        \n",
        "#         print(current_seq)\n",
        "        current_seq = np.roll(current_seq.cpu(), -1, 1)\n",
        "#         print(current_seq)\n",
        "        current_seq[-1][-1] = top_i\n",
        "#         print(current_seq)\n",
        "\n",
        "    return predicted\n",
        "\n",
        "def train(model, num_epochs=50, batch_size = 128, lr=0.001,sq=30):\n",
        "    optimizer = torch.optim.Adam(model.parameters(), lr=lr)\n",
        "    criterion = nn.CrossEntropyLoss()\n",
        "    #convert the text into a vector aray, how many previous chars to use for prediction, the size of the batch\n",
        "    train_loader =  make_data_loader(text_to_numpy(sp_text),sq ,batch_size) \n",
        "    model.cuda()\n",
        "    \n",
        "    losses = []\n",
        "    epochs = []\n",
        "\n",
        "    for epoch in range(num_epochs):\n",
        "        hidden = model.init_hidden(batch_size)\n",
        "        for inp,tar in train_loader: #note that we don't have a validation loader \n",
        "            if len(tar) == batch_size:\n",
        "#                 hidden =hidden.type(torch.cuda.LongTensor)\n",
        "#                 print(hidden.type())\n",
        "                inp, tar = inp.cuda(), tar.cuda()\n",
        "#                 print(inp.type())\n",
        "                optimizer.zero_grad()\n",
        "                output,_ = model(inp,hidden)\n",
        "                loss = criterion(output, tar)\n",
        "                loss.backward()\n",
        "                optimizer.step() \n",
        "        losses.append(float(loss))\n",
        "        epochs.append(epoch)\n",
        "\n",
        "        print(\"[Epoch %d] Loss %f\" % (epoch+1, float(loss)))\n",
        "        model_path = get_model_name(model.name, batch_size, lr, epoch,model.hidden_size,model.n_layers,sq)\n",
        "        torch.save(model, model_path)\n",
        "        print(evaluate(model,prime_str=\"Kyle:\"))\n",
        "        \n",
        "    plt.title(\"Training Curve\")\n",
        "    plt.plot(losses, label=\"Train\")\n",
        "    plt.xlabel(\"Epoch\")\n",
        "    plt.ylabel(\"Loss\")\n",
        "    plt.show()\n",
        "\n"
      ],
      "execution_count": 0,
      "outputs": []
    },
    {
      "metadata": {
        "id": "4C0vnfeGUzYy",
        "colab_type": "text"
      },
      "cell_type": "markdown",
      "source": [
        "### **Tuning**"
      ]
    },
    {
      "metadata": {
        "id": "0KXMdvZkUR6Q",
        "colab_type": "code",
        "colab": {}
      },
      "cell_type": "code",
      "source": [
        "model = Cartmanboi(len(vocab),256,2)\n",
        "train(model,num_epochs=20,batch_size=64, lr=2e-4)"
      ],
      "execution_count": 0,
      "outputs": []
    },
    {
      "metadata": {
        "id": "t0t93lqxtH-N",
        "colab_type": "code",
        "colab": {}
      },
      "cell_type": "code",
      "source": [
        "model_1 = Cartmanboi(len(vocab),256,2)\n",
        "train(model_1,num_epochs=20,batch_size=128, lr=2e-4)"
      ],
      "execution_count": 0,
      "outputs": []
    },
    {
      "metadata": {
        "id": "6AhbEY-5r6Mt",
        "colab_type": "code",
        "colab": {}
      },
      "cell_type": "code",
      "source": [
        "model_2 = Cartmanboi(len(vocab),512,2,dropout=0.5)\n",
        "train(model_2,num_epochs=20,batch_size=128, lr=0.001,sq=50)"
      ],
      "execution_count": 0,
      "outputs": []
    },
    {
      "metadata": {
        "id": "NFRs4W0ag9tf",
        "colab_type": "code",
        "colab": {}
      },
      "cell_type": "code",
      "source": [
        "model4 = Cartmanboi(len(vocab),128,3,dropout=0.3)\n",
        "train(model4,num_epochs=20,batch_size=64, lr=0.001,sq=50)"
      ],
      "execution_count": 0,
      "outputs": []
    },
    {
      "metadata": {
        "id": "fXDy2AFYUyhw",
        "colab_type": "code",
        "colab": {}
      },
      "cell_type": "code",
      "source": [
        "model_3 = Cartmanboi(len(vocab),128,dropout=0)\n",
        "train(model_3,num_epochs=2,batch_size=64, lr=2e-4)"
      ],
      "execution_count": 0,
      "outputs": []
    },
    {
      "metadata": {
        "id": "5LnQuBCooAru",
        "colab_type": "code",
        "colab": {}
      },
      "cell_type": "code",
      "source": [
        "model = Cartmanboi(len(vocab),256,2)\n",
        "train(model,num_epochs=20,batch_size=64, lr=3e-4,sq=50)"
      ],
      "execution_count": 0,
      "outputs": []
    },
    {
      "metadata": {
        "id": "kgq3l2nI2R7F",
        "colab_type": "code",
        "colab": {
          "base_uri": "https://localhost:8080/",
          "height": 7230
        },
        "outputId": "543f2b1d-c3ae-4ae0-b3c1-3483b79f1d03"
      },
      "cell_type": "code",
      "source": [
        "model = Cartmanboi(len(vocab),512,2)\n",
        "train(model,num_epochs=50,batch_size=64, lr=3e-4,sq=100) "
      ],
      "execution_count": 9,
      "outputs": [
        {
          "output_type": "stream",
          "text": [
            "[Epoch 1] Loss 1.612069\n"
          ],
          "name": "stdout"
        },
        {
          "output_type": "stream",
          "text": [
            "/usr/local/lib/python3.6/dist-packages/torch/serialization.py:251: UserWarning: Couldn't retrieve source code for container of type Cartmanboi. It won't be checked for correctness upon loading.\n",
            "  \"type \" + obj.__name__ + \". It won't be checked \"\n"
          ],
          "name": "stderr"
        },
        {
          "output_type": "stream",
          "text": [
            "Kyle:\tI've now lest the foinglee to you're guys! \n",
            "Jealis:\tNot like to Ked an the espoon like you gonnathen like way of the hampers. \n",
            "Stan:\tAk. I don't your be a stild fingoer is the pandy? \n",
            "Cartman:\tI'm a with your kneling aterson camfres. \n",
            "Kyle:\tLuhe, I they't Semy plove. Dad, letol know going longe! \n",
            "Leaner:\tWin!! \n",
            "Kyle:\tAll really badsen, whing in the world? I'm promnenge. \n",
            "Cartman:\tYeah, I I we fund! \n",
            "Cartman:\tIt he can is ge for a chen. It's the plapees anyone bomnay? \n",
            "Of bedory:\tWhat't crom tha\n",
            "[Epoch 2] Loss 1.430793\n",
            "Kyle:\tHele this whately that the clued, you see you to thought happer, it's not the trutht Asical! \n",
            "Mr. Connolly:\tChef ManBearPig?! \n",
            "Kyle:\tWhat this, he's brarn, you guys to gain! \n",
            "Leader:\tEric, and please. \n",
            "Tirectar:\tMyllie. I'm sex with the hater. \n",
            "Cartman:\tAll right?  \n",
            "Finey Hallis:\tNot the pirty thoses thropor that the world, batk! Jesigut!  \n",
            "As Cartman:\tBagry!  Wer hores! \n",
            "Kyle:\tWhowe! She was now this move the working the sare out to the imorust has propets me?! Ive wan!  \n",
            "Member 1:\tWe see were\n",
            "[Epoch 3] Loss 1.435227\n",
            "Kyle:... Who don't not you see you believe the fight and he's still the Park Satant Alliance and shoof you to ser of halliones! \n",
            "Aracon.\tWell the Seople, I'm just lat me the and Stell his break to have an ammade of the understand I- \n",
            "Randy:\tYeah, I should you don't got to be corragions? I'm in the Uniter 1ich Landy one of a pretty about off trying the exisode you thank to rellions in the plan. \n",
            "Stan:\tCan you don't you thoughtand you want the smug?? \n",
            "Mr. Dawkins:\tYes. I want a party crapped and advent\n",
            "[Epoch 4] Loss 1.177838\n",
            "Kyle: Oh, I have that dearing wants  the story shroop it, that butting him in friend toot lightee. \n",
            "Kyle:\tYou save all dieping my fried is this fatters watching to die your save up incentile I don't be home in histenday fuh appears. \n",
            "Stan:\tAll right?!  Now that's rannary into the episode! \n",
            "Cartman:\tSoo, everyone. \n",
            "Al Gore:\tAh, did it!  \n",
            "Ranger McFriendly:\tWhat that's that?  \n",
            "Mrs. Garrison:\tCome on, dads like to all vide is play at the Dew making towels, they're kids to says. \n",
            "Randy:\tAnd you should do\n",
            "[Epoch 5] Loss 0.688815\n",
            "Kyle: I wait to get the butching down and the Hord rast eventary and getting him get a good that with enaty. \n",
            "Stan:\tNo!  this was me in the smug! \n",
            "Cartman:\tI mean't just doo' beat from the owners out. The year sons everything. I've got a find of the school amestile. At the like our of the Muslim thon, I'm a renitine you tull a stupid to make an impeartinater:  send our and then tatch a hard over them the proyes on now and the hell a jock a time or inlleate.  \n",
            "Stan:\tDude, I head the fire rest own sons\n",
            "[Epoch 6] Loss 1.011455\n",
            "Kyle:  YEa©!!! \n",
            "The Costoon Erichers Buy in the show and a-concers if you do the wait. \n",
            "Alan:\tAll right, all right, but I'm the air... if you get de wink! \n",
            "Kyle:\tAll right, there's not to have nexw.  No. What are told must- \n",
            "Jesse Jackson:\tPlease?! \n",
            "Satan:\tOh no!  \n",
            "Time Child:\tNo... \n",
            "Cartman:\tKyle! \n",
            "Kyle:\tOh Jesus! And I was only gonna get die! \n",
            "Kyle:\tNigger guy. No mate, there's not to figl any tire. \n",
            "Kyle:\tCome on, Eric Cartman, he can't get the truth?! \n",
            "Cartman:\tLook, that's right. \n",
            "Cartman:\tHaha!\n",
            "[Epoch 7] Loss 0.812033\n",
            "Kyle: I'm sorry in you! \n",
            "Wheney:\tI'm Mingie. At warn episode, when there is a goversmous power-7 hull making him wait for fill the chicken.  \n",
            "Mershally:\tI'm a woman. \n",
            "Kyle:\tYou know it's watching to pit to say the Mohammad and like I long apter that.  Then the polction.  This is a kince who was to do and Eric Cartman demanded and too back down sake of a butting back Cartman and sait. It is a ragidation speech? I can't let Chef has gonna be a fact!  \n",
            "Kyle:\tAll right, I'm going to know that yix this: W\n",
            "[Epoch 8] Loss 0.967236\n",
            "Kyle: It's simply party because our picture A meant. \n",
            "Cartman:\tMoh! \n",
            "Jesse Jackson:\tAre you doing it? \n",
            "Randy:\tWhy? \n",
            "Mrs. Garrison:\tSo what's where we do?? \n",
            "Mr. Mackey:\tUh heh, you reacting our shopping of a same character that everything right? \n",
            "Member 2:\tShe? \n",
            "Male Bouncer:\tUn the right one, the time is a time to the prooless are science, but the big bad have a lot of deptartion. The Warcraft coldies to have any facorise out the atheist and brah? \n",
            "Miss Stevenson:\tI thought he can't be a reas funny. \n",
            "[Epoch 9] Loss 1.011462\n",
            "Kyle: There's nothing to be... stop mateed is... in the same with your days thought away. He love to go on a bunch we talks away.  \n",
            "Al Gore:\tAnd now, Jesus Chef. \n",
            "Announcer:\tWill the child is made it. \n",
            "Cartman:\tLook, make much broke, you know you're going to leave in schools.  Now the person down a things working off the child's making so bust two, there is nothing is this again, all in sitting on? \n",
            "Director:\tNobody was put. \n",
            "Towelie:\tYou're gonna cass a retaliation with single behind you all around \n",
            "[Epoch 10] Loss 0.871384\n",
            "Kyle: You see, come on, people in South Park before we're forever than a clue.  \n",
            "Smalls:\tYou must see-Ways going.  \n",
            "Cesar:\tSo you have a done catally son social air besare the smug from Allied Atheist Alliance you've had in the most friend is the baraging clue. \n",
            "ever best getting Bulled:\tAnd if I means sulmor out and never soon.  \n",
            "Mr. Mackey:\tYou're a momone is new which we can get out. Somebody who have to do show it to a floor question: the great floor.  You should seem it back into you!  Saia it t\n",
            "[Epoch 11] Loss 0.736505\n",
            "Kyle:\tI'm sot. Come on, I'm serious. The present and come acond, with a shot of the party, and I'm like the blahed by name is stupid long as we to a retarded.  Really? Uh, the light dies control.  \n",
            "Cartman:\tOh God, we're all seen at the report on the streets that happened.  \n",
            "Oprah:\tWell, I have sex with the President Bush.  \n",
            "Gacy:\tYou guys! Don't get him!  \n",
            "Stan:\tDad, see!  \n",
            "Sheila:\tOh.  The cartoon is once and here we can have the stupid time to me! It isn't letter his pants of an eyerg!  \n",
            "Randy:\tHa\n",
            "[Epoch 12] Loss 0.849629\n",
            "Kyle:\tChef, can I get it now. But... so that 9/11 was done.  What are you?? \n",
            "Butters:\tWhat? \n",
            "Kyle:\tYeah. Uh having here to speak with the show damning people now.  \n",
            "Kyle:\tYeah, that's totally feeling the east years and pread free speech in what every time in afraid the Family Guy writing started like they in the school immediately. We can't be ressed among. \n",
            "Butters:\tHello? Biggie Smalls... Biggie Smalls... \n",
            "Stan:\tNOOD!  I've gotta be some discredits.  \n",
            "Kyle:\tCarpal tuh do, so I think we'd go to have\n",
            "[Epoch 13] Loss 1.018414\n",
            "Kyle: go this guy.  Yes. Yeah, but you guys the great even that  and get it news!  \n",
            "Stella:\tEric, never here!  \n",
            "Stan:\tIf you got a finally paper into the Muslim religion. \n",
            "Mr. Dawkins:\tWell your words are timent, and he was in a party? \n",
            "Randy:\tThat was unother. \n",
            "Cartman:\tAw, God. It's still tell \"nigger\" guy. He's house, you don't side hempee. \n",
            "Cartman:\tStop it, dude!  If you listen to come on here, you have approvally being here? \n",
            "SWAT Officer 7:\tYou know, these son of an imaging rest-fruint, but we\n",
            "[Epoch 14] Loss 0.809310\n",
            "Kyle: I feel thing I have a lot of people to get much some of the holes on the past here by some kind. Words are over here! Okay, the walk into the boys are brokant that to have a great fixty selfive that he like start, suck again!  \n",
            "Kyle:\tHear Science with ship in my mom. It's like... and I'm afraid that somebody made in the manatees last here in the cave we start the child save here? \n",
            "Cartman:\tYeah, that you gonna place my mom, Butters. Forwer wave my camera game to air butthole, the right now.  Th\n",
            "[Epoch 15] Loss 0.824699\n",
            "Kyle:\tI don't know you're finally leads to take the sear that had a hall pass? \n",
            "Pat Sajak:\tWell we shouldn't you talk to you! \n",
            "Stan:\tOkay, Principal Victoria, I can talk to you being high reducance we should take a degritivity Stoon come of the Frenchen of Frudanch Good?! They will see how it will be seen a little problem like Family Guy's very nine on food and now Got to say Not to the Gaze chocolate same to this more impact on my mouth, and like you're donin!  \n",
            "Driver 1:\tYes, Mrs. Cartman, we can w\n",
            "[Epoch 16] Loss 0.884944\n",
            "Kyle: I don't tell him!  \n",
            "Cartman:\tMom, I'm just one getting late.  \n",
            "UAA Member 1:\tOh, no boys! You don't have any idea that with new George Winderant ManBearPig Destroom of simple. I'm serious. Thinks a dilling euch discovered and help me over players. We need to play know.  \n",
            "Mr. Dawkins:\tA seconds! See ya! \n",
            "Gerald:\tBoys, I'm afraid sorry, Butters! \n",
            "Boy 2:\tUh hi, my fatler is a Nintendo Wii ...of the camp eary busing you boys are a little Family Guy off the air. \n",
            "Member 1:\tThe was destroy year old b\n",
            "[Epoch 17] Loss 0.883972\n",
            "Kyle: The hold here soot as a cake that Butters. \n",
            "Bundy:\tWhat? Family Guy is stay out of the news last time for Christ and then log in and sex with a bunch of America can't so solving mysteries you asked. I found you have disporten way. The screen.  \n",
            "Kyle:\tYeah! \n",
            "Cartman:\tHeh!  I don't wanna move on hibles much like that you'll burn you knows Biggie Smalls' nigger guy!\"  \n",
            "Innin:\tWell, let's not going for everyone the puck away. \n",
            "Stan:\tThen anybody asked me to have a choice. \n",
            "Man 1:\tThe cave we talkin\n",
            "[Epoch 18] Loss 0.672312\n",
            "Kyle: Mom, I'm not near that good for my friend. \n",
            "Cartman:\t...Yeah! \n",
            "Kyle:\tWhoa, hock you to me?! \n",
            "Cartman:\tHow?? \n",
            "Mr. Connolly:\tWe need to be a power to the hallways. How spip it ever knowing. \n",
            "Stan:\tDude, I think so. \n",
            "Cartman:\tWhat's that? \n",
            "Cartman:\tMom, that's that, I'm right. \n",
            "Cartman:\tMusur.  \n",
            "Cartman:\tOkay, good. \n",
            "Cartman:\tYeah, it's okay.  \n",
            "Cartman:\tNooo, you fucking all the time to the N-word, let's minute pulled to have a turn hit by a thing as a smug from God attention? \n",
            "Shvek:\tYou say, Pro\n",
            "[Epoch 19] Loss 0.872537\n",
            "Kyle:\tChef want as well, maybe I should could end you the God migger guy. \n",
            "Shvek:\tYou know, the county for the child has be seen. A pointing that darn eationing you to help me the new was to the party. \n",
            "Satan:\tOh Gury, half before we go. \n",
            "Satan:\tOh... yes, let mace the pucking sevious of the... and we get a little high.  \n",
            "Mrs. Brown:\tPlease. \n",
            "Stan:\tHuh? \n",
            "Pat Sajak:\tUhh, we have to get a little high. \n",
            "Firlmender:\tEy there is such the end of the Muslim world. If the boy who can leader about evolution t\n",
            "[Epoch 20] Loss 0.861531\n",
            "Kyle:\tGet out of my brother. \n",
            "Stan:\tNo, I happened to live him for mana. \n",
            "Cartman:\tNooooo! \n",
            "Cartman:\tBeth on a publing spoiled time to the party. Time's remembers high.  Live with you all right. We can know that nobody final periods out of confused about.  \n",
            "Al Gore:\tIt isn't fair. \n",
            "Kenny:\t(Heepen shot drink! Hin Science!  \n",
            "Al Gore:\tHe listended to put up next, it's not to remember! She demand I have to talk! \n",
            "Mingie:\tGo on, we're deading with a chance! \n",
            "Butters:\tWell, you guys do you think a lot of y\n",
            "[Epoch 21] Loss 0.642466\n",
            "Kyle:\tAll right, pulling in on to the N-word to deal with a big mudd and clying robbid caperoom. \n",
            "Cartman:\tI can't believe it! Come on, people's child show! \n",
            "Officer 8:\tFamily Guy is getting a clue. \n",
            "Frank:\tNehha key he is, not it's because he's a towel! \n",
            "Towelie:\tWell I'm sorry, Mr. Mackey, but they come up with a camm.  \n",
            "Geraldo:\tWho won's right? \n",
            "Reporter Mr:\tMany:\tI'm sorry, Mr. Nelson is a car and have to do... break our seals. I'm a person who says they can do, Mayo how and people are brillened\n",
            "[Epoch 22] Loss 0.633632\n",
            "Kyle: Dad.  \n",
            "Redial:\tThe n- midgets.  Hey everybody.  Oh ah I have to be the one 570 year 2.66icel of the term is just leads uss but, so I think it's WROOONG! \n",
            "Receptionist:\tOkay, okay. He said your statement and work on every day.  \n",
            "Stan:\t't's going to be the country  \n",
            "Francisan MalL Staffer:\tDidn't you will be the end of the truth?! But they're an work and stop us to teach it! How did!  We've got some pretty much. \n",
            "Kyle:\tThere won't get to tell you sure around because Kyle's mother?!  \n",
            "Kenny:\t(Like\n",
            "[Epoch 23] Loss 0.796228\n",
            "Kyle:\tStop it! \n",
            "Kyle:\tHe's hald me! It's mine!  I'm in little suit and my two minder and be sure and core into the smug is already gone fact time in the shop!  They can talk the First Amendment! They just can call me to do and pissed off at his teachers is a world of a friend both of times, the Family Guy writing sharted. \n",
            "Peter:\tLook, there's no matter with a conspiracy is over there.  Ow, you, it is when I need to that picture I like them all the time-out! No but like a song and my mom's might him \n",
            "[Epoch 24] Loss 0.557399\n",
            "Kyle: Dad. \n",
            "Stella:\tEric, I can't let me I was frozen for... to give it to me in person who often got every person\" talk.  \n",
            "Kyle:\tCartman, I don't know here. \n",
            "Cartman:\tWhoa, thought Ike have any part is not a Toulder Trapses on Whies. Let's see a point to ain't a big deal. \n",
            "Butters:\tWhoa, hey Butters. \n",
            "Kyle:\tHello? \n",
            "Time Child:\tIt's stop days. Well we'll stick at this shots of clue. \n",
            "Kyle:\tNo! Thit's true. \n",
            "Cartman:\tActually, there goes great, because it was faving that players have like a point to h\n",
            "[Epoch 25] Loss 0.613955\n",
            "Kyle:\tChris, no more without my son, your not teams the Mast Coloutly boys who wants! \n",
            "Mr. Hardly:\tAnd that's how and I will play with this over with another one. \n",
            "Reporter 3:\tHey, that is sorry I have every person at all the game and get this monkey and meet at O thoral smalls.  This victure. \n",
            "Mingie:\tAll right be story before... \n",
            "Skeeter:\tNot make sure ManBearPig. It's all over. - Petert,  Alan mide you.  Ike, look at that in his like this: It is trying to do it wouldn't so super-spoes an in the Su\n",
            "[Epoch 26] Loss 0.431100\n",
            "Kyle:\tReady? \n",
            "Bublison:\tYeah, we we all worked here a loser room tomorrow morth. \n",
            "Gerald:\tYes, it seems like you've taken off through time for me, and then that's a way to live in anybody, I'll make our idea wake our club.  \n",
            "Dr. Neeland:\tWell how about a dog crap. \n",
            "Announcer:\tAnd I heard to sit on, I'm protected by the gun and E 911wending tonight and I'm defended to tinkle to find out who doesn't burnalls from your old friends massive. It has bown my actions, over his hope for making our friend tomo\n",
            "[Epoch 27] Loss 0.668549\n",
            "Kyle: Dad!  \n",
            "Randy:\tWhere?! \n",
            "Kyle:\tWell what is this geould?!  It is going to be a big deal,  and foor, you can't loss a county. \n",
            "Kyle:\tDude, do you mean? \n",
            "Butters:\tI'm going going on into it!  I'm told about 9/11! \n",
            "Cartman:\tOkay, where's going on??!! This is us! Oh, that's going to be to show everyone to save me. The evidence points aren't except the sand edistain. Nobody say the popular with energy.  Hother not acceptan' to work. Damn your old hiss in the urinal? \n",
            "Mitchell:\tYou're right. However, K\n",
            "[Epoch 28] Loss 0.835770\n",
            "Kyle: Uh you really need my bad time to pow good get hurt, by all those people can get hus money by myself,  but just won't even help them thing we just need to make your time. \n",
            "Cartman:\tMehaverate! \n",
            "Cartman:\tTell me what I had to talk to you? \n",
            "Stan:\tWhat? \n",
            "Cartman:\tOkay.  \n",
            "Stan:\tWell! I'm gonna do somethin'! \n",
            "Towelie:\tAw man. \n",
            "Stan:\tI'm sorry.  I got some information has completely places so much... from a great Hardly Boys in his mouth. \n",
            "Driver:\tWell let's move. There are cresidencifilibity as me. \n",
            "[Epoch 29] Loss 0.680115\n",
            "Kyle: I can do.  \n",
            "K-10:\tBark bark. Bye-bye. Choice this with us to share with you\". \n",
            "Randy:\tA answer to the Great Question is the most or noreds. \n",
            "Cartman:\tRight, yay. \n",
            "Kyle:\tYou guys been like this, but, or no thing!  \n",
            "Mr. Nelson:\tSomething and make yourself anormen. \n",
            "Mrs. Garrison:\tWhat?! \n",
            "Mr. Dawkins:\tWell, it doesn't believe what you're each other?  \n",
            "President:\tAhhh! \n",
            "Towelie:\tHuh? What can I do? How look like?! We did it!  \n",
            "UAA Member 1:\tNo, I'm serious. Everyone else would happened and his bigg\n",
            "[Epoch 30] Loss 0.491797\n",
            "Kyle:\tCartman! I gotta bury the truth? \n",
            "Bundy:\tTning on a socual climble science where the truth, he can take us to your chicken Mohammad whice to him. \n",
            "Yates:\tYeah. \n",
            "Cartman:\tDon't you -Hello? \n",
            "Kyle:\tWell Kyle, can we cauld. I'm super serial.  The dominant enested.  The man who could have Monatee! \n",
            "Lead Screeneran:\t\"A Bellly \"nigger\" guys ever feeling. \n",
            "Officer 1:\tThe head of Family Guy! You were six the trippina, didn't even that ready to dies in the past on me, mon't even with a V8eel vortan monst\n",
            "[Epoch 31] Loss 0.566759\n",
            "Kyle: Coach, I'm an and still prevaked about the last them all. \n",
            "Member 1:\tThe president of the airpont perfence showe and warnine around their charghout on an emergence is aboving a towel ignorance, if And one dook here in South Park. You must understand what show. Your shows now. Then found it is wrong an its off near the earth awesome. The name of this statement:  all the world. If the right to kill a character, name we've got a towel. \n",
            "Butters:\tWell well if there's no state evolution and fair. \n",
            "S\n",
            "[Epoch 32] Loss 0.629836\n",
            "Kyle:\tHe love letter, but I can't hor anything. \n",
            "Kyle:\tYou shut up a dick in LYAAN! \n",
            "Stan:\tWhat do you keep your fuckin' fatable questions and back done.  \n",
            "Kyle:\tI wish this car in the face.  This is just an weave.  Oh... Oh my God... Whee does is working? So down the ex vice so buried us to do it isn't say to have completely completely unithing to explains very ownnest wearmbressige every day, and my father with the bonst smug, but we cannot any part of the phone right now. \n",
            "Stan:\tWhat the-? \n",
            "Ike:\tM\n",
            "[Epoch 33] Loss 0.436471\n",
            "Kyle: I don't need your party add.  Mom, I know this is a towel, she person is asked that I'm dealing with social share that you've followned the nation of everyone.  Wow. I'm gonna run them?  All right, Stan. You know we're not gonna make the time to track, but that mouth.  \n",
            "Stan:\tCared.  You should know we're like Kyle, quiet! \n",
            "Blavius:\tAll right, thirk are the one who go speak with your mouser't threat the phone rub everything like head on the prochet to the Groons. \n",
            "Gerald:\tOh. I guess we're gonn\n",
            "[Epoch 34] Loss 0.615222\n",
            "Kyle: All right Show'd and I am the dog is a good later was reporter have responsible for this before, but if you don't understand why you could think that Perper out of Jesus Christ evolvance? \n",
            "Pat Sajak:\tAsshole, Eric. I will a little day, was that guy appoot beaten has school. \n",
            "Cartman:\tI am the one three months, even those are combining Milarendo World of Warcraft and go another damn here! \n",
            "Demonius:\tWhat?! \n",
            "Randy:\tOh, look who's retarded. If the return to be high. \n",
            "Cartman:\tWho? \n",
            "Audector:\tI'm a\n",
            "[Epoch 35] Loss 0.480697\n",
            "Kyle:\tChef! I are you gonna bust play from this? \n",
            "Butters:\tWell what do you guys, Kyle? Kyle! \n",
            "Kyle:\tUhhh, hold on a second here. \n",
            "Cartman:\tOkay, what can we go around the world is right to laud out with another?  \n",
            "Principal Victoria:\tEric Cartman, I have become day to put terrorism to risk any sense. \n",
            "Demon 1:\tI have to get this crap ever inside here and make it so much spow the proof. \n",
            "Member 1:\tWe get so smelled tabk the name of Almighty Science!  \n",
            "FOX President:\tLittle book, I'm still no edis on \n",
            "[Epoch 36] Loss 0.542853\n",
            "Kyle: Chef, Mr. Stanley, I'm sorry, Eric, tell, accrape me. I thought I was not gonna rembres out.  I agreed to show me your students and the and for Nintendo Wii is leng in keepin' or anything letter now. \n",
            "Joe:\tOh... \n",
            "Announcer:\tAnd if I have some pretty son on equict, and we just can just work work but more of the towers that I said and stop hearing my vory sense of he mattle. I've been take away.  I remand it no first. \n",
            "Oprah:\tWhat is it? He done somewhere necess! \n",
            "Liane:\tThey saw \"special guest s\n",
            "[Epoch 37] Loss 0.467334\n",
            "Kyle:\tDo you think 9/11 wasn't gonna work wored. \n",
            "Mrs. Garrison:\tWell, who are you wanted adoit, letter. I'm gonna... start cleaner. \n",
            "Cartman:\tReally? \n",
            "Butters:\tNo! Don't like your house to your hybrid over this third and probred idea? \n",
            "Butters:\tGo what was that your science principal 'cause I'm the delicine speech has apologized or postionally player is, here it works!  \"Halloween, who is the past while well, my husband more retarded collams in secreb of them leasur that Family Guy is writin' a part\n",
            "[Epoch 38] Loss 0.476182\n",
            "Kyle: THAT! We gotta go again!  \n",
            "Stan:\tJesus Christ! \n",
            "Chef:\tI'm gonna be some way to Jews the teacher here.  \n",
            "Stan:\tHe was both of the teacher is having some fruity cities, in Stan's party spoopy team getsing message. \n",
            "FOX President:\tYou pund, know it. \n",
            "FOX President:\tYou get to the prophecy and former larged sound then. \n",
            "Kyle:\tStan, what do you mean? \n",
            "Nelson:\tI think we don't want to embarrassing and give the relixing Muslim terrorists contion to me! \n",
            "Yates:\tAll right, that's all those children, Pet\n",
            "[Epoch 39] Loss 0.694922\n",
            "Kyle:\tKyle! Kyle! Kyle! \n",
            "Stan:\tWhat? \n",
            "Clyde:\tKyle? What? \n",
            "Dougie:\tButters Butters, how wait it to meling, Cartman?! \n",
            "Cartman:\tCome on! Come on, let's move! Nothing come out, so hand it over! Do you can do it? I need to be patient.  \n",
            "Cartman:\tLook, I think you guys know it, drip in Grog.  \n",
            "Stan:\tI want you to me! Kyle!  \n",
            "Chef:\tOh! I got it!  Ike!  \n",
            "Kyle:\tAll right, now take a thirr in the face.  \n",
            "Stan:\tDad, can I go information for you and me. \n",
            "Stan:\tDude, how about I do edaby it. \n",
            "Boy 2:\tOh self. It'\n",
            "[Epoch 40] Loss 0.619002\n",
            "Kyle: Dad?  Daw, I don't know what there was a slur things about the Great Question shall proven? \n",
            "Mrs. Garrison:\tYou guys don't tell anybody. \n",
            "SNN Anchor:\tOnce again, beteried high, dude, that goes for you and me, words that are your defense, but you would log old bash? \n",
            "Demonius:\tWhat? \n",
            "FOX President:\tProve in a raging clue right now. We're the only way here in Sceele of Tewester\" to pury the behavior has been through the towers fell see you into the boys to see Paris? \n",
            "Mingie:\tWhat's wrong? \n",
            "Gary:\n",
            "[Epoch 41] Loss 0.619694\n",
            "Kyle: God damnit!  \n",
            "SWAT Miss Stevenson:\tI got it.  \n",
            "Randy:\tHey!  \n",
            "UAA Leader:\tMy friends! It's wrong!  Gacy dow!  God damnit, we said he's been days thire for emority! \n",
            "Principal Victoria:\tYou must be the past forgainma name. He's gonna rust become relaxed and... take days in or earth. \n",
            "Butters:\tYou'd better go around the holly Hardly Boy, have you ever known was on the plural 'quese of Jest Cancer.  Hi, Miss Stevenson. \n",
            "Principal Victoria:\tYou must be the one idea ball and his character dependes ar\n",
            "[Epoch 42] Loss 0.547993\n",
            "Kyle: Do you? \n",
            "Butters:\tWell, this who has the most look? \n",
            "Cartman:\tI have no idea. Mom, you have a lot of you who are cream and leave this meeting disportex without Chef... this was fagging on the picture. \n",
            "Bishop 1:\tNonet, his inselt and take dark, and I know they're gonna cave over there now!  \n",
            "For Sidd McToinger:\tChease are intiliem, right? He can help us. \n",
            "Timmy:\tLook, I'm just flack and then that shot is over again? \n",
            "Shainain:\tIt's like a goin'- 19 Stamped.  Phinehas from delats of Americans, i\n",
            "[Epoch 43] Loss 0.485429\n",
            "Kyle: Come on, you're gonna have to be planning with that assever carreedy back. The rest of our stoes of tea thore bringing up with a shocking staff. Suicide you were the American sheeple and finally made all reasonation. \n",
            "Mrs. Garrison:\tWell what am I gonna show up the time to believe it. It'll be so... didn't I done.  What the hell is getting mana. \n",
            "Stan:\tDad, have you see that?  Biggie Sisnesperymans, ars, and I'm about forgiting you stay with no matter what I do and you can't ban you want people\n",
            "[Epoch 44] Loss 0.688755\n",
            "Kyle: Chef!  \n",
            "Kyle:\tDad? Don't you think it's funny, you'll find Butters?  \n",
            "Stephen:\tWell, let me he shill feel with the child sonofabitch. \n",
            "Kyle:\tWhat'd E fun so Kble to do home, do you gave like bulleted their very soon? \n",
            "Liane:\tWell, a few week right here in off toloradic cake. \n",
            "Cartman:\tMom, she isn't gonna ruin it. \n",
            "Cartman:\tHello, gentlemen, lid on and shoot now \n",
            "Speaker:\tAnyway, my damnit! \n",
            "Mingie:\tWe have killed him! They just moved their fait! How about this audient me all the highest person\n",
            "[Epoch 45] Loss 0.529304\n",
            "Kyle: CHAc!  \n",
            "Al Gore:\tWhat??  What the?  Way tomorrow at 8 a.m. shard!  And then I think that's gettin' my mom.It's since for you to see Paris? \n",
            "Mingie:\tThere's some. \n",
            "Peter:\tWho amazon, this is completely up goesn't reverded that we are drain here in San Francisco. \n",
            "Randy:\tWho? \n",
            "Bundy:\tYou need to come or to unfreeze me seen in from the clanss on the class that he said. \n",
            "Cartman:\tAgh! Ah, looks like you don't unfreed up for line!  Hello?!  \n",
            "Stan:\tDude, it kind you. \n",
            "Cartman:\tKenny! Leh up against t\n",
            "[Epoch 46] Loss 0.530949\n",
            "Kyle: Hybrid now, hybrid cars make an idea of Television Speech of this boys.  what exactly is this in the face while wearing a towel. \n",
            "Towelie:\tHow come childrenjoy is six they reffre. \n",
            "Gary:\tYeah. Thank you.  \n",
            "Miss Stevenson:\tI am sick and the lives here. \n",
            "Stan:\tWhat the heck? I'm gonna be with you. I just don't have any wiener in ourselves, \"nigger\" on the sword to discuss. \n",
            "President Bush:\tLook. Now my did it. \n",
            "Kyle:\tI think that's it? I'm supposed to rise up and get the episode pulled.  \n",
            "Cartman\n",
            "[Epoch 47] Loss 0.404631\n",
            "Kyle:\tDo you mind telling us about your building? \n",
            "Stan:\tWell, there's a Jeep something. \n",
            "Cartman:\tWell, okay, fine. \n",
            "Cartman:\tWell, I guess it's exerching ploobyer about the stalls who logic on this third and finally walking answer, then I thought up it in line if you got a place for deeply and she's hapet final period? The rest of a book that is these neats. Just peeched in filled with strail. A hurry was an information for you! \n",
            "Mr. T:\tThere just gonna be a mants and what it isn't sparkle like the\n",
            "[Epoch 48] Loss 0.534901\n",
            "Kyle: Do you think you're the retarded. \n",
            "UAA Woman:\tWhat have we have to learn about... are throunch. \n",
            "Cartman:\tWhat had my pants. How hig he realize that they uring super-sere to report to get a lot more ferthrouth we have to die is what you want?  \n",
            "Reporters:\tAWWW!!!  \n",
            "Reporters:\tAWWW! \n",
            "Jimbo:\tHello? \n",
            "Nelson:\tAll right, that's wrong without by day,  there is just a little pontrate retarded. \n",
            "Time Child:\tNo, really. I've got a great more memberritarrigation. \n",
            "Officer 1:\tYou have a shoels! \n",
            "Mr. Macke\n",
            "[Epoch 49] Loss 0.488676\n",
            "Kyle: Hi, let's go! Think all they killed him! We can for Jarvon, and get in the mights game... from heaver here.  But there is working.  All right at was no book out of the towel boakes of it, Hardly Boys. They guys. I am not have sex with dinger of smug. Yes... the Ferrari.  All those head in the Traininully won't believe it somebody's at the Andientered of \"A Mindee plan three wee staral idea \"\n",
            "Bush:\tI'll never be the ball through the commit in the wrong nightmare, wouldn't you? \n",
            "Aunotood people d\n",
            "[Epoch 50] Loss 0.630303\n",
            "Kyle: Kyle, guys, like a lot more ever going to were into the child, just bluathy Family Guy writers has a constames anymore. They'll be the end of Family Guy, not because they in my mouth last for viol. \n",
            "Townla:\tHello, Kyle. No...  Nineter, back, have it down for the otters are like bullets. And if you wrathhrowed it on Your gay!\" Kyle got such a thinging the funts of time! \n",
            "Liane:\tI just stay at hellom, because it can't talk to your gay little before?  \n",
            "Mr. Nelson:\tNow but you can't do it can taken\n"
          ],
          "name": "stdout"
        },
        {
          "output_type": "display_data",
          "data": {
            "image/png": "[encoded data removed]",
            "text/plain": [
              "<Figure size 576x396 with 1 Axes>"
            ]
          },
          "metadata": {
            "tags": []
          }
        }
      ]
    },
    {
      "metadata": {
        "id": "X3Y20VUzr8bp",
        "colab_type": "text"
      },
      "cell_type": "markdown",
      "source": [
        "**Evaluation Section**\n",
        "\n",
        "\n"
      ]
    },
    {
      "metadata": {
        "id": "6sit9e30j0YN",
        "colab_type": "code",
        "colab": {}
      },
      "cell_type": "code",
      "source": [
        "def evaluate(model, prime_str='Kyle:', sq_length=30, predict_len=500, temperature=0.8):\n",
        "    hidden = model.init_hidden(1) #create a hidden layer the size of our prime string \n",
        "    prime_input = text_to_numpy(prime_str) #convert out prime string to a np array vector \n",
        "    \n",
        "    \n",
        "    #create a matrix the same size as our input batches\n",
        "    current_seq = np.full((1, sq_length), vocab_stoi[\" \"]) #create a vector to hold the predicted characters \n",
        "    \n",
        "    current_seq[-1][len(current_seq)-len(prime_input)-1:] = prime_input\n",
        "    predicted = prime_str #predicted holds the predicted sequence \n",
        "    current_seq = torch.from_numpy(current_seq)\n",
        "    model.cuda()\n",
        "    for p in range(predict_len):  #for however many characters we want to predict \n",
        "        current_seq = torch.LongTensor(current_seq).cuda() #turn our current sequence into a long tensor \n",
        "        output, hidden = model(current_seq, hidden)\n",
        "#         print(hidden.shape)\n",
        "#         print(current_seq.shape)\n",
        "        \n",
        "        # Sample from the network as a multinomial distribution\n",
        "        output_dist = output.data.view(-1).div(temperature).exp()\n",
        "        top_i = int(torch.multinomial(output_dist, 1)[0])\n",
        "        # Add predicted character to string and use as next input\n",
        "        predicted_char = vocab_itos[top_i] #figure out what the predicted character is\n",
        "        predicted += predicted_char\n",
        "        \n",
        "#         print(current_seq)\n",
        "        current_seq = np.roll(current_seq.cpu(), -1, 1)\n",
        "#         print(current_seq)\n",
        "        current_seq[-1][-1] = top_i\n",
        "#         print(current_seq)\n",
        "\n",
        "    return predicted"
      ],
      "execution_count": 0,
      "outputs": []
    },
    {
      "metadata": {
        "id": "K9cweluQoSBr",
        "colab_type": "code",
        "outputId": "541b762a-9174-47d5-f980-7c2f1de17554",
        "colab": {
          "base_uri": "https://localhost:8080/",
          "height": 190
        }
      },
      "cell_type": "code",
      "source": [
        "##Get the best model\n",
        "net = Cartmanboi(len(vocab),128)\n",
        "path = '/content/drive/My Drive/Colab Notebooks/model_c1_bs64_lr0.0003_epoch46_h512_l2_sq100'\n",
        "net = torch.load(path)\n",
        "print(evaluate(net.eval(),prime_str = \"Kyle:\",temperature=0.8))"
      ],
      "execution_count": 26,
      "outputs": [
        {
          "output_type": "stream",
          "text": [
            "/usr/local/lib/python3.6/dist-packages/torch/nn/modules/rnn.py:46: UserWarning: dropout option adds dropout after all but last recurrent layer, so non-zero dropout expects num_layers greater than 1, but got dropout=0.2 and num_layers=1\n",
            "  \"num_layers={}\".format(dropout, num_layers))\n"
          ],
          "name": "stderr"
        },
        {
          "output_type": "stream",
          "text": [
            "Kyle: CHRS!  We did it! \n",
            "Cartman:\tBehald, this is two for one; put your hands to win, damnit is your last walking to tell you to try. People can't believe it. \n",
            "Cartman:\tYou see, my frog slip is to get a hall pass goes of the tour where it isn't that cancer in my little problem. \n",
            "Zazul:\tAck, he is the Family Guy episode pulled. \n",
            "Cartman:\tThat's it. We're all hit his feeling angrails, the intelligent, retard alert, class.  \n",
            "Cardinal Mahoney:\tThere goes the guy that can also care. \n",
            "Satan:\tSo I want the \n"
          ],
          "name": "stdout"
        }
      ]
    }
  ]
}